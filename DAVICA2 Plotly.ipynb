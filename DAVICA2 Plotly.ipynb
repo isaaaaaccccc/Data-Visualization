{
 "cells": [
  {
   "cell_type": "markdown",
   "metadata": {},
   "source": [
    "<h1>DAVI CA2 Part 2<h1>\n",
    "<h3>Name : Isaac Low Zu Le</h3>\n",
    "<h3>Class: DAAA/FT/2A/03</h3>\n",
    "\n",
    "<h5>Objective: To understand the student population well and gain a deeper understanding of the demographics</h5>"
   ]
  },
  {
   "cell_type": "markdown",
   "metadata": {},
   "source": [
    "<hr>\n",
    "<h2>Step 1: Nature of the dataset</h2>\n",
    "<br>\n",
    "as this dataset is a csv file of the data from part 1, the  data should be relatively clean"
   ]
  },
  {
   "cell_type": "code",
   "execution_count": 1,
   "metadata": {},
   "outputs": [],
   "source": [
    "import pandas as pd\n",
    "import dash\n",
    "from dash import dcc\n",
    "from dash import html\n",
    "from dash.dependencies import Input, Output\n",
    "import plotly.express as px\n",
    "import pandas as pd\n",
    "\n",
    "\n",
    "\n",
    "\n",
    "df = pd.read_csv('cleaned_data.csv')\n",
    "\n"
   ]
  },
  {
   "cell_type": "code",
   "execution_count": 2,
   "metadata": {},
   "outputs": [
    {
     "name": "stdout",
     "output_type": "stream",
     "text": [
      "Unique values in column 'STUDENT ID':\n",
      "['2020/1101-013/001' '2020/1101-013/002' '2020/1101-013/003'\n",
      " '2020/1101-014/004' '2020/1101-014/005' '2020/1101-014/006'\n",
      " '2020/1101-014/008' '2020/1101-015/009' '2020/1101-015/010'\n",
      " '2020/1101-015/011' '2020/1101-016/012' '2020/1101-016/013'\n",
      " '2020/1101-016/014' '2020/1101-017/015' '2020/1101-017/016'\n",
      " '2020/1101-017/017' '2020/1101-017/018' '2020/1101-017/019'\n",
      " '2019/1101-007/001' '2019/1101-007/002' '2019/1101-007/003'\n",
      " '2019/1101-007/004' '2019/1101-007/005' '2019/1101-008/006'\n",
      " '2019/1101-008/007' '2019/1101-008/008' '2019/1101-008/009'\n",
      " '2019/1101-009/010' '2019/1101-009/011' '2019/1101-010/012'\n",
      " '2019/1101-010/013' '2019/1101-010/014' '2019/1101-010/015'\n",
      " '2019/1101-010/016' '2019/1101-010/017' '2019/1101-010/019'\n",
      " '2019/1101-010/020' '2019/1101-010/021' '2019/1101-010/022'\n",
      " '2019/1101-010/023' '2019/1101-010/024' '2019/1101-011/025'\n",
      " '2019/1101-011/026' '2019/1101-011/027' '2019/1101-011/028'\n",
      " '2019/1101-011/029' '2019/1101-012/030' '2019/1101-012/031'\n",
      " '2019/1101-012/032' '2019/1101-012/033' '2020/2101-110/001'\n",
      " '2020/2101-110/002' '2020/2101-111/003' '2020/2101-111/004'\n",
      " '2020/2101-111/005' '2020/2101-111/006' '2020/2101-111/007'\n",
      " '2020/2101-111/008' '2020/2101-111/009' '2020/2101-112/010'\n",
      " '2020/2101-112/011' '2020/2101-112/012' '2019/2101-106/001'\n",
      " '2019/2101-106/002' '2019/2101-107/003' '2019/2101-107/004'\n",
      " '2019/2101-107/005' '2019/2101-107/006' '2019/2101-107/007'\n",
      " '2019/2101-107/008' '2019/2101-107/009' '2019/2101-108/010'\n",
      " '2019/2101-108/011' '2019/2101-108/012' '2019/2101-108/013'\n",
      " '2019/2101-108/014' '2019/2101-109/015' '2019/2101-109/016'\n",
      " '2019/2101-109/017' '2019/2101-109/018' '2019/2101-109/019'\n",
      " '2019/2101-109/021' '2019/2101-109/022' '2019/2101-109/023'\n",
      " '2020/2102-068/001' '2020/2102-068/002' '2020/2102-068/003'\n",
      " '2020/2102-068/004' '2020/2102-068/005' '2020/2102-068/006'\n",
      " '2020/2102-068/007' '2020/2102-068/008' '2020/2102-068/009'\n",
      " '2020/2102-068/010' '2020/2102-068/011' '2020/2102-069/012'\n",
      " '2020/2102-069/013' '2020/2102-069/014' '2020/2102-069/015'\n",
      " '2020/2102-069/016' '2020/2102-069/017' '2020/2102-069/018'\n",
      " '2020/2102-069/019' '2020/2102-069/020' '2020/2102-069/021'\n",
      " '2020/2102-069/022' '2020/2102-070/023' '2020/2102-070/024'\n",
      " '2020/2102-070/025' '2020/2102-070/026' '2020/2102-070/027'\n",
      " '2020/2102-070/028' '2020/2102-070/029' '2020/2102-070/030'\n",
      " '2020/2102-070/031' '2020/2102-070/032' '2020/2102-070/033'\n",
      " '2020/2102-070/034' '2020/2102-070/035' '2020/2102-070/036'\n",
      " '2020/2102-070/037' '2020/2102-070/038' '2020/2102-070/039'\n",
      " '2020/2102-070/040' '2020/2102-070/041' '2020/2102-070/042'\n",
      " '2020/2102-070/043' '2019/2102-063/001' '2019/2102-063/002'\n",
      " '2019/2102-063/003' '2019/2102-063/004' '2019/2102-063/005'\n",
      " '2019/2102-063/006' '2019/2102-063/007' '2019/2102-063/008'\n",
      " '2019/2102-063/009' '2019/2102-064/010' '2019/2102-064/011'\n",
      " '2019/2102-064/012' '2019/2102-064/013' '2019/2102-064/014'\n",
      " '2019/2102-064/015' '2019/2102-064/016' '2019/2102-064/017'\n",
      " '2019/2102-064/018' '2019/2102-064/019' '2019/2102-064/020'\n",
      " '2019/2102-064/021' '2019/2102-064/022' '2019/2102-065/023'\n",
      " '2019/2102-065/024' '2019/2102-065/025' '2019/2102-065/026'\n",
      " '2019/2102-065/027' '2019/2102-065/028' '2019/2102-065/029'\n",
      " '2019/2102-065/030' '2019/2102-065/031' '2019/2102-065/032'\n",
      " '2019/2102-065/033' '2019/2102-065/034' '2019/2102-065/035'\n",
      " '2019/2102-065/036' '2019/2102-065/037' '2019/2102-065/038'\n",
      " '2019/2102-065/039' '2019/2102-065/040' '2019/2102-065/041'\n",
      " '2019/2102-065/042' '2019/2102-065/043' '2019/2102-066/044'\n",
      " '2019/2102-066/045' '2019/2102-066/046' '2019/2102-066/047'\n",
      " '2019/2102-066/048' '2019/2102-066/049' '2019/2102-066/050'\n",
      " '2019/2102-066/051' '2019/2102-066/052' '2019/2102-067/053'\n",
      " '2019/2102-067/054' '2019/2102-067/055' '2019/2102-067/056'\n",
      " '2019/2102-067/057' '2019/2102-067/058' '2020/5112-012/010'\n",
      " '2020/5112-012/011' '2020/5112-012/012' '2020/5112-012/013'\n",
      " '2020/5112-012/014' '2020/5112-012/015' '2020/5112-011/006'\n",
      " '2020/5112-011/007' '2020/5112-011/008' '2020/5112-011/009'\n",
      " '2020/5112-010/003' '2020/5112-010/004' '2020/5112-010/005'\n",
      " '2020/5112-009/001' '2020/5112-009/002' '2019/5112-008/013'\n",
      " '2019/5112-008/014' '2019/5112-008/015' '2019/5112-008/016'\n",
      " '2019/5112-008/017' '2019/5112-008/018' '2019/5112-007/007'\n",
      " '2019/5112-007/008' '2019/5112-007/009' '2019/5112-007/010'\n",
      " '2019/5112-007/011' '2019/5112-007/012' '2019/5112-006/004'\n",
      " '2019/5112-006/005' '2019/5112-006/006' '2019/5112-005/001'\n",
      " '2019/5112-005/002' '2019/5112-005/003' '2020/5113-012/015'\n",
      " '2020/5113-012/016' '2020/5113-012/017' '2020/5113-012/018'\n",
      " '2020/5113-011/010' '2020/5113-011/011' '2020/5113-011/012'\n",
      " '2020/5113-011/013' '2020/5113-011/014' '2020/5113-010/007'\n",
      " '2020/5113-010/008' '2020/5113-010/009' '2020/5113-009/001'\n",
      " '2020/5113-009/002' '2020/5113-009/003' '2020/5113-009/004'\n",
      " '2020/5113-009/005' '2020/5113-009/006' '2019/5113-008/007'\n",
      " '2019/5113-008/008' '2019/5113-007/004' '2019/5113-007/005'\n",
      " '2019/5113-007/006' '2019/5113-006/003' '2019/5113-005/001'\n",
      " '2019/5113-005/002']\n",
      "\n",
      "\n",
      "Unique values in column 'SALUTATION':\n",
      "['Ms' 'Mr' 'Mrs']\n",
      "\n",
      "\n",
      "Unique values in column 'GENDER':\n",
      "[0 1]\n",
      "\n",
      "\n",
      "Unique values in column 'NATIONALITY':\n",
      "['Singaporean' 'Malaysian (PR)' 'Chinese' 'Malaysian' 'Indian'\n",
      " 'Netherlands' 'Indian (PR)' 'Chinese (PR)' 'Filipino' 'Filipino (PR)'\n",
      " 'Vietnamese' 'Myanmar' 'China (PR)' 'Malaysian(PR)' 'Chinese\\r\\n(China)'\n",
      " 'Indonesian (PR)']\n",
      "\n",
      "\n",
      "Unique values in column 'LOCAL':\n",
      "[1 0]\n",
      "\n",
      "\n",
      "Unique values in column 'DOB':\n",
      "['1978-03-04' '1966-03-23' '1988-12-04' '1991-11-27' '1985-04-23'\n",
      " '1981-03-15' '1994-01-21' '1975-07-09' '1977-06-09' '1991-12-05'\n",
      " '1983-07-19' '1989-10-02' '1996-03-05' '1994-08-27' '1980-01-27'\n",
      " '1995-04-16' '1983-06-18' '1989-01-06' '1981-09-13' '1979-07-26'\n",
      " '1990-02-01' '1976-04-20' '1983-11-25' '1968-10-17' '1979-10-22'\n",
      " '1980-06-29' '1976-05-25' '1983-11-30' '1992-07-08' '1988-11-02'\n",
      " '1990-01-31' '1973-04-20' '1991-03-09' '1990-06-17' '1990-01-04'\n",
      " '1986-09-10' '1997-08-03' '1970-08-02' '1973-03-08' '1994-11-13'\n",
      " '1983-02-10' '1969-02-16' '1992-04-18' '1978-06-16' '1987-10-19'\n",
      " '1973-04-30' '1977-06-12' '1976-04-27' '1986-02-05' '1980-01-03'\n",
      " '1993-12-02' '1974-11-06' '1989-05-27' '1992-09-22' '1988-10-18'\n",
      " '2001-12-11' '1969-12-18' '1987-11-12' '1984-02-13' '1987-07-13'\n",
      " '1994-07-15' '1984-07-08' '1987-09-08' '1981-06-19' '1999-09-28'\n",
      " '1967-10-19' '1995-04-10' '1999-05-24' '2001-04-12' '1987-10-21'\n",
      " '1994-04-08' '1986-02-18' '1979-11-09' '1994-12-24' '1998-04-23'\n",
      " '1986-12-23' '1992-12-09' '1998-10-10' '1987-07-14' '1978-11-30'\n",
      " '1998-05-11' '1993-01-20' '1976-04-11' '1973-09-10' '1988-12-27'\n",
      " '1992-11-11' '1985-11-09' '1989-08-26' '1980-12-17' '1992-11-24'\n",
      " '1990-02-26' '1991-07-16' '1969-10-15' '1994-07-07' '1996-05-05'\n",
      " '1970-06-24' '1994-02-14' '1989-12-02' '1984-12-05' '1977-02-13'\n",
      " '1971-11-07' '1961-04-01' '2000-12-05' '1977-08-27' '1992-09-02'\n",
      " '1992-09-06' '1988-01-17' '1987-09-13' '1988-01-20' '1991-02-16'\n",
      " '1972-06-09' '1987-12-04' '1998-12-28' '1973-07-12' '1978-10-12'\n",
      " '1980-03-16' '1990-09-21' '1983-01-12' '1974-01-23' '1978-05-22'\n",
      " '1993-02-04' '1985-10-23' '1983-11-18' '1969-02-10' '1992-07-22'\n",
      " '1982-07-25' '1962-11-30' '1971-07-05' '1983-03-22' '1979-11-11'\n",
      " '1992-04-29' '1987-08-11' '1993-07-10' '1988-07-04' '1989-07-24'\n",
      " '1981-01-06' '1984-04-08' '1993-07-18' '1993-12-11' '1981-12-10'\n",
      " '1984-10-02' '1973-11-04' '1983-03-11' '1982-07-21' '1965-08-05'\n",
      " '1972-01-13' '1977-03-13' '1986-10-16' '1982-05-20' '1983-11-28'\n",
      " '1973-10-13' '1985-02-28' '1993-04-23' '1967-09-16' '1974-07-02'\n",
      " '1992-03-09' '1977-10-16' '1989-02-22' '1984-02-24' '1979-06-07'\n",
      " '1983-07-18' '1992-12-01' '1981-08-18' '1984-03-23' '1991-12-03'\n",
      " '1967-03-17' '1984-01-15' '1994-10-04' '1965-12-02' '1965-09-05'\n",
      " '1983-05-09' '1983-12-05' '1978-09-27' '1981-08-10' '1986-11-27'\n",
      " '1990-04-18' '1991-10-21' '1981-06-08' '1987-09-06' '1984-10-31'\n",
      " '1988-08-16' '1984-03-14' '1970-08-16' '1989-03-20' '1994-06-02'\n",
      " '1982-02-24' '1991-05-07' '1985-07-16' '1992-03-21' '1991-01-08'\n",
      " '1983-03-29' '1984-02-16' '1983-07-17' '1983-01-22' '1982-10-17'\n",
      " '1986-03-27' '1989-08-06' '1974-08-07' '1985-09-07' '1975-09-23'\n",
      " '1983-09-01' '1984-01-26' '1977-04-11' '1969-10-31' '1993-10-04'\n",
      " '1972-11-14' '1985-03-12' '1985-06-22' '1977-08-09' '1982-06-01'\n",
      " '1992-10-12' '1974-04-29' '1981-10-19' '1989-03-19' '1998-11-28'\n",
      " '1991-01-14' '1978-08-18' '1984-06-04' '1991-11-18' '1977-01-03'\n",
      " '1990-07-27' '1993-11-07' '1993-09-01' '1992-01-02' '1986-01-17'\n",
      " '1996-10-21' '1981-02-11' '1979-07-17' '1980-11-06' '1990-09-22'\n",
      " '1985-02-09' '1973-10-01' '1982-09-30' '1990-03-06' '1981-11-14'\n",
      " '1983-01-28']\n",
      "\n",
      "\n",
      "Unique values in column 'HIGHEST QUALIFICATION':\n",
      "['Certificate' 'Degree' 'Diploma' 'Master' 'Graduate Diploma' '-'\n",
      " 'Postgraduate Diploma']\n",
      "\n",
      "\n",
      "Unique values in column 'NAME OF QUALIFICATION AND INSTITUTION':\n",
      "['Certificate in Office Skills, ITE'\n",
      " 'WSQ Higher Certificate in Human Resources, WPLN, Fundamentals Certificate in Early Childhood Care and Education'\n",
      " 'Nitec in Service Skills (Office), ITE'\n",
      " 'Bachelor Science (Facilities & Events Management), SUSS'\n",
      " 'Diploma in Procurement and Supply Management, SIPMM Academy'\n",
      " 'Certificate in Payroll Administration, SHRI Academy, SPM'\n",
      " 'Master of Public Administration, San Jose State University'\n",
      " 'Bachelor of Science in Business & Mgt Studies, University of Bradford'\n",
      " 'Bachelor of Business (Advertising), Queensland University of Technology'\n",
      " 'Diploma in Environmental Science, Republic Polytechnic'\n",
      " 'Bachelor of Arts in Accounting, University of Bedfordshire'\n",
      " 'Bachelor of Science (Business Management), University of Birmingham'\n",
      " 'N level' 'Diploma in Events Management, Kaplan'\n",
      " 'Diploma in Hotel Management, SHATEC'\n",
      " 'Diploma in Healthcare Administration, Republic Polytechnic'\n",
      " 'Bachelor of Science in Business, UOL' 'SPM'\n",
      " 'Bachelor of Business Administration, University of Rajasthan, India'\n",
      " 'Office Management Diploma, NCOI Rotterdam, The Netherlands'\n",
      " \"Diploma in Business Admininstration, LCCI Level 3, Private Secretary's Diploma, LCCI\"\n",
      " 'Lower Secondary Education, Malaysia'\n",
      " 'Master in Computer Science, Osmania University, India' \"N' level\"\n",
      " \"O' level\" 'N Level'\n",
      " 'Bahcelor of Management (Marketing), Universiti Teknologi Malaysia'\n",
      " 'Diploma in Multimedia & Infocomm Technology, Nanyang Polytechnic'\n",
      " 'Bachelor of Arts in Business with Logistics and Supply Chain Management, University of Northumbria'\n",
      " 'Diploma in Business, Temasek Polytechnic'\n",
      " 'Diploma in Business Administration, PSB Academy'\n",
      " 'Advanced Diploma in Tourism, Hospitality and Event Management, MDIS'\n",
      " 'Diploma in Multimedia Software Engineering, Singapore Polytechnic'\n",
      " \"O' levels, Diploma in Business Management (distance learning), Glasgow, Dublin\"\n",
      " 'Sec 2, WPLN (Reading, Speaking, Listening, Writing) & Numeracy'\n",
      " 'Certified Accounting Technicians (CATS), ACCA, SPM'\n",
      " 'Diploma of Hospitality Management, Australian Academy of Hospitality Management'\n",
      " \"Certified Accounting Technicians (CATS), ACCA, 'O' levels\"\n",
      " 'NTC 2, N Level, WPLN' \"O' level, 'N' Level, WPLN\"\n",
      " 'Diploma in Masss Communication, MDIS'\n",
      " 'Nitec in Hair Fashion & Design, ITE' 'SPM, LCCI'\n",
      " 'Diploma in Commerce (Biz Admin), Kaplan / Diploma in Biz Admin (Business, Travel & Tourism), Newcastle School of Management'\n",
      " 'Foundation Certificate in HRM, SHRI Academy'\n",
      " 'Bachelor of Business (Marketing), RMIT'\n",
      " 'Nitec in Electronics, Computer Networking & Communications, ITE'\n",
      " 'Basic Certificate in HRM, SHRI'\n",
      " 'Bachelor of Commerce (Management and Marketing), Curtin University of Technology'\n",
      " 'Bachelor of Science in Business, SUSS'\n",
      " 'Diploma in Integrated Events Management, Republic Polytechnic'\n",
      " 'Bachelor of Science (HRD), Universiti Teknologi Malaysia'\n",
      " 'Certificate in Computer, Jiangsu Vocational Middle School, Certificate in Grammar & Writing Intermediate Level, Ascend Education Centre'\n",
      " 'Diploma in Mechatronic Engineering, Nee Ann Polytechnic'\n",
      " 'Higher Nitec in Hospitality Operations, ITE'\n",
      " 'Higher Nitec in Business Studies (Service Management), ITE' \"O' levels\"\n",
      " 'WSQ Higher Certificate in Human Resources, HCS'\n",
      " 'Nitec in Fitness Training, ITE'\n",
      " 'SPM, Certificate in Business Studies (Business Administration) Level IV, Tunku Abdul Rahman College'\n",
      " 'SPM, LCCI Level 2 Certificate in Book-keeping and Accounts / LCCI Level 3 Business Statistics'\n",
      " 'Diploma in Financial Informatics, Nanyang Polytechnic, CPA, SHRI Academy'\n",
      " \"O' level, Foundation Certificate in Human Resource Management, SHRI Academy\"\n",
      " 'A level'\n",
      " 'Bachelor of Arts (Mass Communication), New Era University, Quezon City, Philippines'\n",
      " 'N Level, Foundation Certificate in HRM, SHRI Academy' 'O level'\n",
      " 'Bachelor of Science (Business Management), UOL'\n",
      " 'Diploma in Business Administration (Accounting & Finance), PSB Academy'\n",
      " 'LCCI Diploma in Accounting (Third Level)'\n",
      " 'Diploma in Sales & Marketing, MIS'\n",
      " 'Bachelor of Engineering, Universiti Malaysia Perlis'\n",
      " 'Certificate in Opticianry Practice, Republic Poly, WPLN'\n",
      " 'Bachelor of Human Resource Management, SUSS'\n",
      " 'Bachelor of Economics, University of Malaya'\n",
      " 'Bachelor of Science  in Chemical Engineering, Singapore Institute of Technology'\n",
      " 'Bachelor of Science (Nursing), Curtin University of Technology &Bachelor of Business (HRM), Murdoch University'\n",
      " 'Bachelor of Accountancy, jointly offered by NUS/NTU'\n",
      " 'Bachelor of Science in Business Management, University of Birmingham'\n",
      " 'FCHRM, SHRI Academy'\n",
      " 'Diploma in Business, Marketing Institute of Singapore'\n",
      " 'Bachelor of Communications in Public Relations, Universiti Tunku Abdul Rahman'\n",
      " 'Specialist Diploma in HRM, Nanyang Polytechnic'\n",
      " 'Graduate Diploma in Business Administration (Operations & Logistics Management), SIM'\n",
      " 'Graduate Diploma in HRM, SHRI'\n",
      " 'O level, Private Secretary Certificate, LCCI'\n",
      " 'Diploma in Compensation & Benfits Management, SHRI Academy'\n",
      " 'Diploma in Accountancy' 'Bachelor of Science in Banking & Finance, UOL'\n",
      " 'Bachelor of Arts, NUS'\n",
      " 'Bachelor of Technology (Industrial & Management Engineering), NUS'\n",
      " 'Postgraduate Diploma in Strategic Human Capital Management'\n",
      " \"Professional Diploma in Leadership and People Management, SSG / 'A' level\"\n",
      " 'Bachelor of Commerce in Human Resource Management, Murdoch University'\n",
      " 'Diploma in Integrated Logistics Management, The Logistics Academy Pte Ltd'\n",
      " 'Diploma in Product & Industrial Design, Temasek Polytechnic'\n",
      " 'Master of Business Administration, Anna University, India'\n",
      " 'Bachelor of Business, University of Tasmania'\n",
      " 'Bachelor of Communication, SIM University'\n",
      " 'Bachelor of Business Administration, University of South Australia'\n",
      " 'Bachelor of Science in Accounting & Finance, UOL'\n",
      " 'Graduate Diploma in HRM, MDIS' 'NTC-2 Chemical Process Technology, ITE'\n",
      " 'Bachelor of Accountancy, NUS'\n",
      " \"O' level; Certificate for Emloyment Intermediaries (CEI) Basic\"\n",
      " 'Diploma in Human Resource Management, PSB, ACTA'\n",
      " 'Bachelor of Science in Psychology, Lyceum of the Philippines'\n",
      " 'BSc in Business and Management Studies, University of Bradford'\n",
      " 'Diploma in Maritime Studies, Institute of Maritime & Business Management (IMBM)'\n",
      " 'Nitec in Product Design, ITE'\n",
      " 'Diploma in Business & Human Resource Management, SHRI'\n",
      " 'Bachelor of Commerce in HRM, Murdoch University' '-'\n",
      " 'Diploma in Business Administration (HRM), PSB Academy'\n",
      " 'Bachelor of Arts in HRM with Organisational Psychology, Edinburgh Napier University'\n",
      " 'Bachelor of Arts in Business and Finance, Coventry University'\n",
      " 'Bachelor of Science in Mathematics and Economics, UOL'\n",
      " 'Bachelor of Commerce, Deakin University'\n",
      " 'Diploma in Business Administration (HRM), PSB Academy / CHRM, SHRI / Nitec in Office Skills, ITE'\n",
      " 'Diploma in Electrical Engineering, Singapore Polytechnic'\n",
      " 'Diploma in Electronics, Computer & Communication Engineering, Singapore Polytechnic'\n",
      " 'Bachelor of Commerce, University of Mumbai'\n",
      " 'Diploma in Electrical & Computer Control Engineering, Singapore Polytechnic / Diploma in Social Service, SSTI / CHRM, SHRI Academy'\n",
      " 'Master of Business Administration (HR), Amity University, India'\n",
      " 'Bachelor of Business Administration, St Paul College of Dumaguete City, Philippines'\n",
      " 'Bachelor of Business Administration (Honours), Universiti Tunku Abdul Rahman'\n",
      " \"A' level\"\n",
      " 'Advanced Diploma in Business Administration, University of Technology Sydney/IBMEC'\n",
      " 'Bachelor of Science in Business, University of London'\n",
      " 'Diploma in Accountancy, Kaplan Higher Education Institute'\n",
      " 'MBA, Mangalore University'\n",
      " 'Bachelor of Arts in Human Resource Management with Organisational Psychology, SHRI Academy'\n",
      " \"Bachelor of Business Administration, Xi'an Shiyou University, China\"\n",
      " 'Bachelor of Arts in Accounting & Financial Management, The University of Sheffield'\n",
      " 'Diploma in Business & HRM, SHRI'\n",
      " 'Bachelor of Science (Agriculture), Kerala Agriculture University'\n",
      " 'Bachelor of Commerce in HRM,   Murdoch University'\n",
      " 'Diploma in Accountancy, Ngee Ann Polytechnic'\n",
      " 'Diploma in Commerce (Human Resource Management)'\n",
      " 'Diploma in Business Adminsitration, Singapore Polytechnic'\n",
      " 'Diploma in Personnel Management, National Productivity Board'\n",
      " 'Bachelor in Banking and Finance, Polytechnic University of the Philippines'\n",
      " 'Bachelor of Science in Accountancy, University of Santo Tomas'\n",
      " 'Diploma in Human Resource Management, PSB Academy'\n",
      " 'Bachelor of Communication, Murdoch University'\n",
      " 'Certificate in HRM, SHRI Academy'\n",
      " 'Bachelor of Arts in HRM, Kingston University'\n",
      " 'Bachelor of Bank Management, University of Madras'\n",
      " 'Bachelor of Business Administration, Universiti Tunku Abdul Rahman'\n",
      " 'Master of Business Adminsitration, Southern Cross University'\n",
      " 'Bachelor of Business (Accountancy)/\\r\\nRoyal Melbourne Institute of Technology'\n",
      " 'Diploma in Business & Human Resource Management/\\r\\nSingapore Human Resource Management'\n",
      " 'Postgraduate Diploma in Education (Specialisation in teaching at Secondary School level)/\\r\\nNanyang Technological University'\n",
      " 'Bachelor of Education with a minor in Department of Geography/\\r\\nNational Taiwan Normal University'\n",
      " 'Diploma in Electronic & Computer Engineering/\\r\\nNgee Ann Polytechnic'\n",
      " 'Bachelor of Arts in Human Resource Management with Financial Management/\\r\\nEdinburgh Napier University'\n",
      " 'Degree of Bachelor of Engineering (Materials Engineering)/\\r\\nNanyang Technological University'\n",
      " 'Bachelor of Business (Management)/\\r\\nRMIT University'\n",
      " 'Bachelor of Arts/\\r\\nNational University of Singapore'\n",
      " 'Bachelor of Business with Second Class Honours (Upper Division)/\\r\\nNanyang Technological University'\n",
      " 'Bachelor of Business Administration (Accountancy) with Honours (Merit)/\\r\\nNational University of Singapore'\n",
      " 'Bachelor of Communications Major in Journalism; Major in Public Relations/\\r\\nEdith Cowan University'\n",
      " 'Bachelor of Business (Management)/\\r\\nRoyal Melbourne Institute of Technology'\n",
      " 'Bachelor of Arts (Honours)/\\r\\nUniversity of Delhi'\n",
      " 'Bachelor of Science (Consumer Science) Honours Second Class Upper/\\r\\nUniversiti Putra Malaysia'\n",
      " 'Degree of Bachelor of Science with Honours in Biological Sciences/\\r\\nNanyang Technological University'\n",
      " 'Honours Degree of Bachelor of Science (Management)/\\r\\nNational University of Ireland'\n",
      " 'Master of Arts (Chinese Studies)/\\r\\nNational University of Singapore'\n",
      " 'Bachelor of Business (Accounting)/\\r\\nMurdoch University'\n",
      " 'Bachelor of Business with Honours Class Two: I (International Business)/\\r\\nUniversiti Malaysia Sabah'\n",
      " 'Bachelor of Business (Economics and Finance)/\\r\\nRMIT University'\n",
      " 'Bachelor in Tourism/\\r\\nPolytechnic University of The Philippines'\n",
      " 'Diploma in Business Administration/\\r\\nSystematic College Johor Bahru'\n",
      " 'Degree of Bachelor of Development Studies/\\r\\nYangon Institute of Economics'\n",
      " 'Bachelor of Arts with Merit/\\r\\nNational University of Singapore'\n",
      " 'Diploma in Commerce (Business Administration)/\\r\\nKaplan Higher Education Institute'\n",
      " 'Bachelor of Commerce in Hospitality & Tourism Management and Human Resource Management/\\r\\nMurdoch University'\n",
      " 'Diploma in Business Administration/\\r\\nInternational Business and Management Education Centre (IBMEC)'\n",
      " 'Bachelor of Accountancy (Merit)/\\r\\nSingapore Management University'\n",
      " 'Diploma in Compensation & Benefits Management/\\r\\nSHRI Academy Pte Ltd'\n",
      " 'Bachelor of Arts with Honours Second Class:  Division II in International Business/\\r\\nBirmingham City University'\n",
      " 'Bachelor of Arts in Tourism Events/\\r\\nMurdoch University'\n",
      " 'Bachelor of Science in Business/\\r\\nUniversity of London'\n",
      " 'Bachelor of Commerce in Management and Marketing Management/\\r\\nMurdoch University'\n",
      " 'Bachelor of Arts in Human Resource Management with Organisational Psychology/\\r\\nEdinburgh Napier University'\n",
      " 'Bachelor of Arts (Sociology)/\\r\\nState University of New York at Buffalo'\n",
      " 'Bachelor of Arts with Honours (Distinction) in Global Studies/\\r\\nNational University of Singapore'\n",
      " 'Bachelor of Science in Finance (Pass with Merit)/\\r\\nSingapore University of Social Sciences'\n",
      " 'Master in Business Administration with Merit/\\r\\nUniversity of Bradford'\n",
      " 'Specialist Diploma in Human Resource Management/\\r\\nNanyang Polytechnic'\n",
      " 'Master of Applied Science (Research)/\\r\\nQueensland University of Technology'\n",
      " 'Bachelor of Business (Marketing)/\\r\\nRMIT University'\n",
      " 'Postgraduate Diploma in Education (Specialisation in teaching at Secondary School)/\\r\\nNanyang Technological University +\\r\\nBachelor of Arts (Multimedia Design)/\\r\\nCurtin University of Technology'\n",
      " 'Master of Business Administration (First Class with Distinction)/\\r\\nJawaharlal Nehru Technological University Anantapur'\n",
      " 'Graduate Diploma in Systems Analysis/\\r\\nNational University of Singapore'\n",
      " 'Bachelor of Science with Second Class Honours (Upper Division) in Business/\\r\\nUniversity of London'\n",
      " 'Bachelor of Commerce (Management Human Resource Management)/\\r\\nMurdoch University'\n",
      " 'Bachelor of Science (Education) with Second Class Honours (Lower Division)/\\r\\nNational Technological University'\n",
      " 'Bachelor of Arts (Communication and Psychology)/\\r\\nState University of New York at Buffalo'\n",
      " 'Bachelor of Science/\\r\\nNational University of Singapore'\n",
      " 'Degree of Master of English as a Second Language/\\r\\nUniversity of Malaya'\n",
      " 'Bachelor of Commerce in Accounting/\\r\\nMurdoch University'\n",
      " 'Bachelor of Science in Accounting and Finance with Third Class Honours/\\r\\nUniversity of London'\n",
      " 'Bachelor of Commerce (Accounting and Finance)/\\r\\nCurtin University of Technology'\n",
      " 'Bachelor of Economics (Accounting)/\\r\\nUniversitas Katolik Indonesia'\n",
      " 'Bachelor of Science in Hotel Administration (Hospitality Management)/\\r\\nUniversity of Nevada, Las Vegas'\n",
      " 'Bachelor of Arts with Second Class Honours (Lower Division) in Business with Logistics and Supply Chain Management/\\r\\nUniversity of Northumbria at Newscastle'\n",
      " 'Bachelor of Business (Business Administration) with Distinction/\\r\\nRoyal Melbourne Institute of Technology']\n",
      "\n",
      "\n",
      "Unique values in column 'DATE ATTAINED HIGHEST QUALIFICATION':\n",
      "['2016-11-06' '2018-02-06' '2017-06-10' '2016-08-10' '2018-03-10'\n",
      " '2017-12-06' '2018-10-06' '2016-09-06' '2017-11-01' '2019-08-01'\n",
      " '2017-09-01' '2018-11-02' '2019-01-02' '2018-04-02' '2018-01-02'\n",
      " '2016-12-02' '2018-01-08' '2016-06-08' '2015-08-08' '2018-02-08'\n",
      " '2015-06-08' '2015-05-07' '2015-06-07' '2015-07-07' '2015-08-07'\n",
      " '2018-05-07' '2017-05-07' '2018-08-09' '2015-11-09' '2016-02-09'\n",
      " '2016-03-09' '2018-01-09' '2016-08-09' '2017-12-09' '2017-01-09'\n",
      " '2016-01-09' '2015-09-09' '2018-10-10' '2016-11-10' '2018-09-10'\n",
      " '2016-12-10' '2016-09-10' '2016-02-05' '2016-08-05' '2018-07-05'\n",
      " '2017-11-08' '2018-07-08' '2019-06-28' '2019-01-28' '2018-08-28'\n",
      " '2018-03-28' '2017-04-28' '2017-05-16' '2017-01-16' '2018-09-16'\n",
      " '2016-04-04' '2017-10-04' '2016-12-24' '2017-09-24' '2015-07-24'\n",
      " '2017-04-24' '2018-04-24' '2015-05-24' '2016-03-24' '2015-09-05'\n",
      " '2016-12-05' '2018-03-05' '2018-04-05' '2018-05-25' '2018-06-25'\n",
      " '2018-10-25' '2017-10-25' '2016-09-25' '2018-12-25' '2017-02-25'\n",
      " '2017-08-22' '2019-01-22' '2019-03-22' '2017-04-22' '2017-06-22'\n",
      " '2017-07-22' '2018-10-22' '2019-06-22' '2018-06-22' '2019-02-22'\n",
      " '2017-09-30' '2016-11-30' '2019-08-30' '2018-10-30' '2019-02-28'\n",
      " '2018-03-30' '2019-07-30' '2017-02-28' '2017-10-30' '2017-10-23'\n",
      " '2019-09-23' '2017-12-23' '2019-10-23' '2018-08-23' '2018-01-23'\n",
      " '2019-08-23' '2017-01-23' '2017-11-23' '2018-07-23' '2019-01-23'\n",
      " '2017-09-23' '2017-06-23' '2017-05-23' '2019-06-23' '2017-03-23'\n",
      " '2015-08-18' '2017-12-18' '2016-06-18' '2015-03-18' '2017-05-18'\n",
      " '2016-05-18' '2016-03-18' '2017-02-06' '2017-01-06' '2015-09-06'\n",
      " '2016-06-06' '2016-04-06' '2017-04-06' '2015-08-06' '2017-07-06'\n",
      " '2018-06-06' '2016-07-06' '2016-05-06' '2017-02-22' '2016-10-22'\n",
      " '2015-08-22' '2016-06-22' '2018-08-22' '2016-04-22' '2018-01-22'\n",
      " '2016-01-22' '2018-03-22' '2016-08-22' '2016-12-22' '2018-04-22'\n",
      " '2016-03-22' '2017-01-22' '2015-11-22' '2016-05-25' '2018-04-25'\n",
      " '2016-04-25' '2015-10-25' '2018-09-25' '2016-12-25' '2017-01-25'\n",
      " '2016-03-25' '2017-12-25' '2016-01-25' '2017-11-25' '2017-09-25'\n",
      " '2017-07-30' '2017-04-30' '2019-06-30' '2017-05-30' '2019-08-21'\n",
      " '2018-07-21' '2018-08-21' '2017-03-21' '2018-06-20' '2019-02-20'\n",
      " '2018-02-20' '2018-04-10' '2017-12-20' '2018-09-20' '2016-06-20'\n",
      " '2018-10-20' '2016-08-20' '2017-03-20' '2018-05-05' '2016-10-05'\n",
      " '2017-10-05' '2015-11-05' '2016-05-05' '2017-09-05' '2015-10-08'\n",
      " '2015-10-04' '2016-10-04' '2016-01-04' '2018-01-30' '2019-11-30'\n",
      " '2018-11-21' '2019-02-21' '2016-11-21' '2017-12-21' '2018-04-20'\n",
      " '2017-07-20' '2019-02-10' '2017-04-10' '2016-10-10' '2016-05-10'\n",
      " '2016-07-10' '2016-11-20' '2017-10-20' '2016-04-05' '2017-11-05'\n",
      " '2014-08-04']\n",
      "\n",
      "\n",
      "Unique values in column 'DESIGNATION':\n",
      "['Snr Associate, Client Services' 'Admin Officer' 'Admin Assistant'\n",
      " 'HR Administrator' 'Purchasing Executive' 'HR Executive' 'PR Executive'\n",
      " '-' 'Accounts cum HR Executive' 'Admin & HR Executive' 'HR Assistant'\n",
      " 'Rooms Division Manager' 'HR Associate, Southeast Asia'\n",
      " 'Administrative Executive' 'Admin & HR Assistant'\n",
      " 'HR Support / Office Manager' 'Executive, Administration' 'Administrator'\n",
      " 'Admin & Finance Executive' 'Operation Executive' 'Clerk' 'HR & Admin'\n",
      " 'Early Childhood Support Office' 'Office Manager'\n",
      " 'Business Development Executive' 'Human Resource Assistant'\n",
      " 'Executive, Planning & Delivery' 'Secretary' 'Executive Assistant'\n",
      " 'Senior Assistant (Tenant Administration)' 'Senior HR Officer' 'Manager'\n",
      " 'Relationship and Marketing Executive' 'Administrative Assistant'\n",
      " 'Business Support Manager, APAC' 'Team Assistant' 'APAC HR Specialist'\n",
      " 'Snr Client Service Executive' 'HR Intern'\n",
      " 'Executive, Corporate Services' 'Admin Executive' 'Manager (Engagement)'\n",
      " 'Executive' 'Associate, HR & General Affairs' 'HR Manager'\n",
      " 'Senior Vice President, Gaming Division' 'HR Executive (TA Operations)'\n",
      " 'Admin Support Assistance' 'Service Crew' 'Sales & Operation Executive'\n",
      " 'PR Officer' 'Snr Executive, Accounts' 'Snr Accounts Officer'\n",
      " 'Executive, Student Care Services' 'Device Engineer'\n",
      " 'Operations Executive' 'Staff Nurse' 'Senior Manager'\n",
      " 'Assistant Executive (Payroll)' 'Admin Support Executive'\n",
      " 'Recruitment Consultant' 'Payroll Specialist' 'Admin Asst'\n",
      " 'Office Dept Head' 'Account Senior' 'Senior HR Executive'\n",
      " 'Officer, Administration and Operations' 'Human Reosurce Executive'\n",
      " 'Receptionist' 'Assistant Manager, Human Resources'\n",
      " 'Associate, HR & Payroll' 'Consultant' 'Snr Admin Executive' 'Waitress'\n",
      " 'Accounts Executive' 'Senior HR' 'Center Administrator'\n",
      " 'Team Lead, Payroll & Billing' 'Officer' 'Senior Executive'\n",
      " 'HR & Admin Manager' 'Senior Administrative Executive'\n",
      " 'Human Resource Administrator' 'Assistant Manager (Admin Support)'\n",
      " 'HR Officer' 'HR/Admin' 'Admin cum Payroll Officer'\n",
      " 'Training Coordinator' 'Client Accountant' 'HR & Admin Officer'\n",
      " 'Corporate Service Executive' 'Senior Eexcutive' 'Accountant'\n",
      " 'Snr HR Executive' 'Labour Admin Executive' 'HR Payroll Analyst'\n",
      " 'Payroll' 'People Ops Specialist - APAC' 'Editor' 'HRM' 'HR Supervisor'\n",
      " 'Account Manager' 'Human Resource Officer' 'Sr HR Associate'\n",
      " 'Assistant Manager, HR Operations' 'Assistant Admin Manager'\n",
      " 'Flight Stewardess' 'Head of HR' 'HR Analyst' 'ASSISTANT HR MANAGER'\n",
      " 'Senior Analyst, Compensation & Benefits' 'Senior Recruitment Manager'\n",
      " 'Admin Supervisor' 'Admin Manager' 'Human Resource Executive'\n",
      " 'HR Specialist' 'Human Resource & Admin Manager'\n",
      " 'Human Resource Director' 'Executive, Human Capital'\n",
      " 'HR & Operations Manager, South East Asia' 'Assistant Manager Americas'\n",
      " 'Helpdesk Manager' 'Business Manager' 'Talent Acquisition Specialist'\n",
      " 'Confidential Assistant' 'Journey Management Team Lead'\n",
      " 'Academy Program Coordinator' 'Management Associate' 'Audit Associate'\n",
      " 'Lecturer' 'Regional Recruiter' 'Teacher' 'IT Developer'\n",
      " 'Senior Human Resource Executive' 'Senior Executive, Human Resource'\n",
      " 'Manager, Leadership & Coaching' 'Executive, HR'\n",
      " 'Assistant Vice-President' 'HR Section Manager' 'Bank Executive'\n",
      " 'Head, Registry & Corp Admin' 'Finance Officer'\n",
      " 'Household Goods Coordinator' 'Assistant Director, Human Resources']\n",
      "\n",
      "\n",
      "Unique values in column 'INTAKE NO':\n",
      "['13th' '14th' '15th' '16th' '17th' '7th' '8th' '9th' '10th' '11th' '12th'\n",
      " '110th' '111th' '112th' '106th' '107th' '63rd' '108th' '109th' '68th'\n",
      " '69th' '70th' '64th' '65th' '66th' '67th' '6th' '5th']\n",
      "\n",
      "\n",
      "Unique values in column 'COMMENCEMENT DATE':\n",
      "['2020-01-06' '2020-03-10' '2020-07-06' '2020-09-01' '2020-11-02'\n",
      " '2019-01-08' '2019-03-07' '2019-05-07' '2019-07-09' '2019-09-10'\n",
      " '2019-11-05' '2020-06-08' '2020-09-28' '2020-11-16' '2019-03-04'\n",
      " '2019-04-24' '2019-08-05' '2019-11-25' '2020-07-22' '2020-09-30'\n",
      " '2020-11-23' '2019-02-18' '2019-05-06' '2019-07-22' '2019-09-25'\n",
      " '2020-10-30' '2020-08-21' '2020-03-20' '2020-01-10' '2019-09-20'\n",
      " '2019-07-05' '2019-03-08' '2019-01-04']\n",
      "\n",
      "\n",
      "Unique values in column 'COMPLETION DATE':\n",
      "['2021-04-06' '2021-06-09' '2021-10-05' '2021-11-30' '2022-02-02'\n",
      " '2020-04-07' '2020-06-06' '2020-08-06' '2020-10-08' '2020-12-09'\n",
      " '2021-02-04' '2021-03-05' '2021-06-23' '2021-08-13' '2019-12-03'\n",
      " '2020-01-23' '2020-05-04' '2019-09-28' '2020-09-21' '2020-11-20'\n",
      " '2020-01-22' '2019-04-15' '2019-07-05' '2019-09-20' '2019-11-22'\n",
      " '2020-01-17' '2021-04-29' '2021-02-20' '2020-09-19' '2020-07-09'\n",
      " '2020-03-19' '2020-01-04' '2019-09-07' '2019-07-03']\n",
      "\n",
      "\n",
      "Unique values in column 'SPONSORED':\n",
      "[0 1]\n",
      "\n",
      "\n",
      "Unique values in column 'REGISTRATION FEE':\n",
      "[107   0]\n",
      "\n",
      "\n",
      "Unique values in column 'PAYMENT MODE':\n",
      "['NETS' 'CC JPM' 'GIRO' 'Cr Card' 'Giro' 'SMBC 278451' 'CITI 067168'\n",
      " 'MBB 000023' 'SCB 726231' 'OCBC 006258' 'Nets' 'OCBC 000385'\n",
      " 'POSB 743523' 'OCBC 484773' 'UOB 042724' 'DBS 346889' 'UOB 480958'\n",
      " 'UOB 000073' 'UOB Cr Card - 12 months' 'Waived' 'OCBC 923215'\n",
      " 'DBS 002211']\n",
      "\n",
      "\n",
      "Unique values in column 'COURSE FEE':\n",
      "[1712 1212 1604 2996 2696 1496 1996 2496 1388 1415 1495  888 1308 5803]\n",
      "\n",
      "\n",
      "Unique values in column 'GPA':\n",
      "[3.  2.5 2.  2.4 1.8 2.2 3.1 2.6 4.  3.2 2.9 3.4 3.3 3.6 2.7 1.7 1.9 2.3\n",
      " 3.7 2.8 2.1 3.5 1.5 3.9 3.8 1.6]\n",
      "\n",
      "\n",
      "Unique values in column 'COURSE CODE':\n",
      "[1101 2101 2102 5112 5113]\n",
      "\n",
      "\n",
      "Unique values in column 'INDEX NUMBER':\n",
      "[ 1  2  3  4  5  6  8  9 10 11 12 13 14 15 16 17 18 19  7 20 21 22 23 24\n",
      " 25 26 27 28 29 30 31 32 33 34 35 36 37 38 39 40 41 42 43 44 45 46 47 48\n",
      " 49 50 51 52 53 54 55 56 57 58]\n",
      "\n",
      "\n",
      "Unique values in column 'AGE':\n",
      "[46 58 35 32 39 43 30 49 47 41 34 28 29 44 42 45 48 40 55 51 33 37 26 53\n",
      " 36 38 31 22 54 24 56 25 23 50 52 63 61 57 27]\n",
      "\n",
      "\n",
      "Unique values in column 'TIME FROM LAST QUALIFICATION':\n",
      "['1156 days' '699 days' '1004 days' '1308 days' '731 days' '943 days'\n",
      " '639 days' '1399 days' '1035 days' '397 days' '1096 days' '670 days'\n",
      " '945 days' '1431 days' '365 days' '944 days' '1249 days' '334 days'\n",
      " '1310 days' '1400 days' '1369 days' '1339 days' '730 days' '1338 days'\n",
      " '1246 days' '1217 days' '546 days' '1064 days' '577 days' '911 days'\n",
      " '1277 days' '335 days' '1034 days' '1095 days' '1187 days' '488 days'\n",
      " '701 days' '458 days' '609 days' '762 days' '915 days' '1280 days'\n",
      " '792 days' '516 days' '851 days' '1370 days' '1126 days' '1430 days'\n",
      " '973 days' '518 days' '487 days' '549 days' '396 days' '761 days'\n",
      " '1003 days' '1065 days' '547 days' '580 days' '428 days' '1066 days'\n",
      " '1127 days' '427 days' '823 days' '854 days' '1157 days' '519 days'\n",
      " '1341 days' '975 days' '1433 days' '641 days' '1006 days' '1067 days'\n",
      " '819 days' '850 days' '1125 days' '972 days' '760 days' '669 days'\n",
      " '880 days' '1186 days' '942 days' '456 days' '821 days' '395 days'\n",
      " '1218 days' '1248 days' '700 days' '1279 days' '791 days' '1188 days'\n",
      " '366 days' '394 days' '759 days' '640 days' '914 days' '426 days'\n",
      " '638 days' '668 days' '1247 days' '822 days' '1340 days' '974 days'\n",
      " '1005 days' '607 days' '1614 days']\n",
      "\n",
      "\n",
      "Unique values in column 'COURSE NAME':\n",
      "['Diploma in Business Administration' 'Certificate in HR Management'\n",
      " 'Certificate in Digital Marketing' 'Bachelor of Business Administration'\n",
      " 'Master of Business Administration']\n",
      "\n",
      "\n"
     ]
    }
   ],
   "source": [
    "# view the unique values soo i have a sensing on wether data cleaning is successful\n",
    "for column in df.columns:\n",
    "    unique_values = df[column].unique()\n",
    "    print(f\"Unique values in column '{column}':\")\n",
    "    print(unique_values)\n",
    "    print(\"\\n\")"
   ]
  },
  {
   "cell_type": "code",
   "execution_count": 3,
   "metadata": {},
   "outputs": [
    {
     "name": "stdout",
     "output_type": "stream",
     "text": [
      "<class 'pandas.core.frame.DataFrame'>\n",
      "RangeIndex: 244 entries, 0 to 243\n",
      "Data columns (total 23 columns):\n",
      " #   Column                                 Non-Null Count  Dtype  \n",
      "---  ------                                 --------------  -----  \n",
      " 0   STUDENT ID                             244 non-null    object \n",
      " 1   SALUTATION                             244 non-null    object \n",
      " 2   GENDER                                 244 non-null    int64  \n",
      " 3   NATIONALITY                            244 non-null    object \n",
      " 4   LOCAL                                  244 non-null    int64  \n",
      " 5   DOB                                    244 non-null    object \n",
      " 6   HIGHEST QUALIFICATION                  244 non-null    object \n",
      " 7   NAME OF QUALIFICATION AND INSTITUTION  244 non-null    object \n",
      " 8   DATE ATTAINED HIGHEST QUALIFICATION    244 non-null    object \n",
      " 9   DESIGNATION                            244 non-null    object \n",
      " 10  INTAKE NO                              244 non-null    object \n",
      " 11  COMMENCEMENT DATE                      244 non-null    object \n",
      " 12  COMPLETION DATE                        244 non-null    object \n",
      " 13  SPONSORED                              244 non-null    int64  \n",
      " 14  REGISTRATION FEE                       244 non-null    int64  \n",
      " 15  PAYMENT MODE                           244 non-null    object \n",
      " 16  COURSE FEE                             244 non-null    int64  \n",
      " 17  GPA                                    244 non-null    float64\n",
      " 18  COURSE CODE                            244 non-null    int64  \n",
      " 19  INDEX NUMBER                           244 non-null    int64  \n",
      " 20  AGE                                    244 non-null    int64  \n",
      " 21  TIME FROM LAST QUALIFICATION           244 non-null    object \n",
      " 22  COURSE NAME                            244 non-null    object \n",
      "dtypes: float64(1), int64(8), object(14)\n",
      "memory usage: 44.0+ KB\n"
     ]
    }
   ],
   "source": [
    "df.info()"
   ]
  },
  {
   "cell_type": "code",
   "execution_count": 4,
   "metadata": {},
   "outputs": [
    {
     "name": "stdout",
     "output_type": "stream",
     "text": [
      "Missing Values in Dataframe:\n",
      "STUDENT ID                               0\n",
      "SALUTATION                               0\n",
      "GENDER                                   0\n",
      "NATIONALITY                              0\n",
      "LOCAL                                    0\n",
      "DOB                                      0\n",
      "HIGHEST QUALIFICATION                    0\n",
      "NAME OF QUALIFICATION AND INSTITUTION    0\n",
      "DATE ATTAINED HIGHEST QUALIFICATION      0\n",
      "DESIGNATION                              0\n",
      "INTAKE NO                                0\n",
      "COMMENCEMENT DATE                        0\n",
      "COMPLETION DATE                          0\n",
      "SPONSORED                                0\n",
      "REGISTRATION FEE                         0\n",
      "PAYMENT MODE                             0\n",
      "COURSE FEE                               0\n",
      "GPA                                      0\n",
      "COURSE CODE                              0\n",
      "INDEX NUMBER                             0\n",
      "AGE                                      0\n",
      "TIME FROM LAST QUALIFICATION             0\n",
      "COURSE NAME                              0\n",
      "dtype: int64\n",
      "\n"
     ]
    }
   ],
   "source": [
    "print(\"Missing Values in Dataframe:\", end=\"\\n\")\n",
    "print(df.isnull().sum(), end=\"\\n\\n\")"
   ]
  },
  {
   "cell_type": "markdown",
   "metadata": {},
   "source": [
    "<hr>\n",
    "<h2>Step 2: data Wrangling and cleansing</h2>\n",
    "\n",
    "I am going to be using the cleaned datafrrame from the part 1 of this assignment, however in the part 1, i encoded a few columns for the purposes of that assignment and for this assignment, i will be undoing that.\n",
    "<br>\n",
    "as some columns are not "
   ]
  },
  {
   "cell_type": "code",
   "execution_count": 5,
   "metadata": {},
   "outputs": [],
   "source": [
    "df['GENDER'] = df['GENDER'].map({1: 'Male', 0: 'Female'})\n",
    "df['LOCAL'] = df['LOCAL'].map({1: 'Local', 0: 'Non-Local'})\n",
    "df['SPONSORED'] = df['SPONSORED'].map({1: 'Sponsored', 0: 'Non-Sponsored'})"
   ]
  },
  {
   "cell_type": "code",
   "execution_count": 6,
   "metadata": {},
   "outputs": [],
   "source": [
    "# Convert necessary columns to datetime format\n",
    "df['DOB'] = pd.to_datetime(df['DOB'], errors='coerce')\n",
    "df['DATE ATTAINED HIGHEST QUALIFICATION'] = pd.to_datetime(df['DATE ATTAINED HIGHEST QUALIFICATION'], errors='coerce')\n",
    "df['COMMENCEMENT DATE'] = pd.to_datetime(df['COMMENCEMENT DATE'], errors='coerce')\n",
    "df['COMPLETION DATE'] = pd.to_datetime(df['COMPLETION DATE'], errors='coerce')"
   ]
  },
  {
   "cell_type": "code",
   "execution_count": 7,
   "metadata": {},
   "outputs": [],
   "source": [
    "# derived metrics\n",
    "df['AGE RANGE'] = pd.cut(df['AGE'], bins=[20, 30, 40, 50, 60, 70], labels=['20-30', '31-40', '41-50', '51-60', '61-70'])\n",
    "df['AGE RANGE'] = df['AGE RANGE'].str.strip()  \n"
   ]
  },
  {
   "cell_type": "code",
   "execution_count": 8,
   "metadata": {},
   "outputs": [],
   "source": [
    "df.loc[df['NATIONALITY'] == 'Singaporean', 'LOCAL'] = 1\n",
    "df.loc[df['NATIONALITY'] != 'Singaporean', 'LOCAL'] = 0"
   ]
  },
  {
   "cell_type": "code",
   "execution_count": 9,
   "metadata": {},
   "outputs": [
    {
     "data": {
      "text/html": [
       "<div>\n",
       "<style scoped>\n",
       "    .dataframe tbody tr th:only-of-type {\n",
       "        vertical-align: middle;\n",
       "    }\n",
       "\n",
       "    .dataframe tbody tr th {\n",
       "        vertical-align: top;\n",
       "    }\n",
       "\n",
       "    .dataframe thead th {\n",
       "        text-align: right;\n",
       "    }\n",
       "</style>\n",
       "<table border=\"1\" class=\"dataframe\">\n",
       "  <thead>\n",
       "    <tr style=\"text-align: right;\">\n",
       "      <th></th>\n",
       "      <th>STUDENT ID</th>\n",
       "      <th>SALUTATION</th>\n",
       "      <th>GENDER</th>\n",
       "      <th>NATIONALITY</th>\n",
       "      <th>LOCAL</th>\n",
       "      <th>DOB</th>\n",
       "      <th>HIGHEST QUALIFICATION</th>\n",
       "      <th>NAME OF QUALIFICATION AND INSTITUTION</th>\n",
       "      <th>DATE ATTAINED HIGHEST QUALIFICATION</th>\n",
       "      <th>DESIGNATION</th>\n",
       "      <th>...</th>\n",
       "      <th>REGISTRATION FEE</th>\n",
       "      <th>PAYMENT MODE</th>\n",
       "      <th>COURSE FEE</th>\n",
       "      <th>GPA</th>\n",
       "      <th>COURSE CODE</th>\n",
       "      <th>INDEX NUMBER</th>\n",
       "      <th>AGE</th>\n",
       "      <th>TIME FROM LAST QUALIFICATION</th>\n",
       "      <th>COURSE NAME</th>\n",
       "      <th>AGE RANGE</th>\n",
       "    </tr>\n",
       "  </thead>\n",
       "  <tbody>\n",
       "    <tr>\n",
       "      <th>0</th>\n",
       "      <td>2020/1101-013/001</td>\n",
       "      <td>Ms</td>\n",
       "      <td>Female</td>\n",
       "      <td>Singaporean</td>\n",
       "      <td>1</td>\n",
       "      <td>1978-03-04</td>\n",
       "      <td>Certificate</td>\n",
       "      <td>Certificate in Office Skills, ITE</td>\n",
       "      <td>2016-11-06</td>\n",
       "      <td>Snr Associate, Client Services</td>\n",
       "      <td>...</td>\n",
       "      <td>107</td>\n",
       "      <td>NETS</td>\n",
       "      <td>1712</td>\n",
       "      <td>3.0</td>\n",
       "      <td>1101</td>\n",
       "      <td>1</td>\n",
       "      <td>46</td>\n",
       "      <td>1156 days</td>\n",
       "      <td>Diploma in Business Administration</td>\n",
       "      <td>41-50</td>\n",
       "    </tr>\n",
       "    <tr>\n",
       "      <th>1</th>\n",
       "      <td>2020/1101-013/002</td>\n",
       "      <td>Ms</td>\n",
       "      <td>Female</td>\n",
       "      <td>Singaporean</td>\n",
       "      <td>1</td>\n",
       "      <td>1966-03-23</td>\n",
       "      <td>Certificate</td>\n",
       "      <td>WSQ Higher Certificate in Human Resources, WPL...</td>\n",
       "      <td>2018-02-06</td>\n",
       "      <td>Admin Officer</td>\n",
       "      <td>...</td>\n",
       "      <td>107</td>\n",
       "      <td>NETS</td>\n",
       "      <td>1712</td>\n",
       "      <td>2.5</td>\n",
       "      <td>1101</td>\n",
       "      <td>2</td>\n",
       "      <td>58</td>\n",
       "      <td>699 days</td>\n",
       "      <td>Diploma in Business Administration</td>\n",
       "      <td>51-60</td>\n",
       "    </tr>\n",
       "    <tr>\n",
       "      <th>2</th>\n",
       "      <td>2020/1101-013/003</td>\n",
       "      <td>Ms</td>\n",
       "      <td>Female</td>\n",
       "      <td>Singaporean</td>\n",
       "      <td>1</td>\n",
       "      <td>1988-12-04</td>\n",
       "      <td>Certificate</td>\n",
       "      <td>Nitec in Service Skills (Office), ITE</td>\n",
       "      <td>2016-11-06</td>\n",
       "      <td>Admin Assistant</td>\n",
       "      <td>...</td>\n",
       "      <td>107</td>\n",
       "      <td>CC JPM</td>\n",
       "      <td>1712</td>\n",
       "      <td>2.0</td>\n",
       "      <td>1101</td>\n",
       "      <td>3</td>\n",
       "      <td>35</td>\n",
       "      <td>1156 days</td>\n",
       "      <td>Diploma in Business Administration</td>\n",
       "      <td>31-40</td>\n",
       "    </tr>\n",
       "    <tr>\n",
       "      <th>3</th>\n",
       "      <td>2020/1101-014/004</td>\n",
       "      <td>Ms</td>\n",
       "      <td>Female</td>\n",
       "      <td>Singaporean</td>\n",
       "      <td>1</td>\n",
       "      <td>1991-11-27</td>\n",
       "      <td>Degree</td>\n",
       "      <td>Bachelor Science (Facilities &amp; Events Manageme...</td>\n",
       "      <td>2017-06-10</td>\n",
       "      <td>HR Administrator</td>\n",
       "      <td>...</td>\n",
       "      <td>107</td>\n",
       "      <td>NETS</td>\n",
       "      <td>1212</td>\n",
       "      <td>2.5</td>\n",
       "      <td>1101</td>\n",
       "      <td>4</td>\n",
       "      <td>32</td>\n",
       "      <td>1004 days</td>\n",
       "      <td>Diploma in Business Administration</td>\n",
       "      <td>31-40</td>\n",
       "    </tr>\n",
       "    <tr>\n",
       "      <th>4</th>\n",
       "      <td>2020/1101-014/005</td>\n",
       "      <td>Ms</td>\n",
       "      <td>Female</td>\n",
       "      <td>Singaporean</td>\n",
       "      <td>1</td>\n",
       "      <td>1985-04-23</td>\n",
       "      <td>Diploma</td>\n",
       "      <td>Diploma in Procurement and Supply Management, ...</td>\n",
       "      <td>2016-08-10</td>\n",
       "      <td>Purchasing Executive</td>\n",
       "      <td>...</td>\n",
       "      <td>107</td>\n",
       "      <td>NETS</td>\n",
       "      <td>1712</td>\n",
       "      <td>2.4</td>\n",
       "      <td>1101</td>\n",
       "      <td>5</td>\n",
       "      <td>39</td>\n",
       "      <td>1308 days</td>\n",
       "      <td>Diploma in Business Administration</td>\n",
       "      <td>31-40</td>\n",
       "    </tr>\n",
       "    <tr>\n",
       "      <th>...</th>\n",
       "      <td>...</td>\n",
       "      <td>...</td>\n",
       "      <td>...</td>\n",
       "      <td>...</td>\n",
       "      <td>...</td>\n",
       "      <td>...</td>\n",
       "      <td>...</td>\n",
       "      <td>...</td>\n",
       "      <td>...</td>\n",
       "      <td>...</td>\n",
       "      <td>...</td>\n",
       "      <td>...</td>\n",
       "      <td>...</td>\n",
       "      <td>...</td>\n",
       "      <td>...</td>\n",
       "      <td>...</td>\n",
       "      <td>...</td>\n",
       "      <td>...</td>\n",
       "      <td>...</td>\n",
       "      <td>...</td>\n",
       "      <td>...</td>\n",
       "    </tr>\n",
       "    <tr>\n",
       "      <th>239</th>\n",
       "      <td>2019/5113-007/005</td>\n",
       "      <td>Ms</td>\n",
       "      <td>Female</td>\n",
       "      <td>Singaporean</td>\n",
       "      <td>1</td>\n",
       "      <td>1973-10-01</td>\n",
       "      <td>Degree</td>\n",
       "      <td>Bachelor of Commerce (Accounting and Finance)/...</td>\n",
       "      <td>2017-11-05</td>\n",
       "      <td>Head, Registry &amp; Corp Admin</td>\n",
       "      <td>...</td>\n",
       "      <td>107</td>\n",
       "      <td>Nets</td>\n",
       "      <td>5803</td>\n",
       "      <td>2.9</td>\n",
       "      <td>5113</td>\n",
       "      <td>5</td>\n",
       "      <td>50</td>\n",
       "      <td>607 days</td>\n",
       "      <td>Master of Business Administration</td>\n",
       "      <td>41-50</td>\n",
       "    </tr>\n",
       "    <tr>\n",
       "      <th>240</th>\n",
       "      <td>2019/5113-007/006</td>\n",
       "      <td>Ms</td>\n",
       "      <td>Female</td>\n",
       "      <td>Indonesian (PR)</td>\n",
       "      <td>0</td>\n",
       "      <td>1982-09-30</td>\n",
       "      <td>Degree</td>\n",
       "      <td>Bachelor of Economics (Accounting)/\\r\\nUnivers...</td>\n",
       "      <td>2016-05-05</td>\n",
       "      <td>Finance Officer</td>\n",
       "      <td>...</td>\n",
       "      <td>107</td>\n",
       "      <td>Nets</td>\n",
       "      <td>5803</td>\n",
       "      <td>2.0</td>\n",
       "      <td>5113</td>\n",
       "      <td>6</td>\n",
       "      <td>41</td>\n",
       "      <td>1156 days</td>\n",
       "      <td>Master of Business Administration</td>\n",
       "      <td>41-50</td>\n",
       "    </tr>\n",
       "    <tr>\n",
       "      <th>241</th>\n",
       "      <td>2019/5113-006/003</td>\n",
       "      <td>Ms</td>\n",
       "      <td>Female</td>\n",
       "      <td>Singaporean</td>\n",
       "      <td>1</td>\n",
       "      <td>1990-03-06</td>\n",
       "      <td>Degree</td>\n",
       "      <td>Bachelor of Science in Hotel Administration (H...</td>\n",
       "      <td>2015-06-08</td>\n",
       "      <td>HR Assistant</td>\n",
       "      <td>...</td>\n",
       "      <td>107</td>\n",
       "      <td>Nets</td>\n",
       "      <td>5803</td>\n",
       "      <td>2.8</td>\n",
       "      <td>5113</td>\n",
       "      <td>3</td>\n",
       "      <td>34</td>\n",
       "      <td>1369 days</td>\n",
       "      <td>Master of Business Administration</td>\n",
       "      <td>31-40</td>\n",
       "    </tr>\n",
       "    <tr>\n",
       "      <th>242</th>\n",
       "      <td>2019/5113-005/001</td>\n",
       "      <td>Ms</td>\n",
       "      <td>Female</td>\n",
       "      <td>Singaporean</td>\n",
       "      <td>1</td>\n",
       "      <td>1981-11-14</td>\n",
       "      <td>Degree</td>\n",
       "      <td>Bachelor of Arts with Second Class Honours (Lo...</td>\n",
       "      <td>2014-08-04</td>\n",
       "      <td>Household Goods Coordinator</td>\n",
       "      <td>...</td>\n",
       "      <td>107</td>\n",
       "      <td>Nets</td>\n",
       "      <td>5803</td>\n",
       "      <td>1.9</td>\n",
       "      <td>5113</td>\n",
       "      <td>1</td>\n",
       "      <td>42</td>\n",
       "      <td>1614 days</td>\n",
       "      <td>Master of Business Administration</td>\n",
       "      <td>41-50</td>\n",
       "    </tr>\n",
       "    <tr>\n",
       "      <th>243</th>\n",
       "      <td>2019/5113-005/002</td>\n",
       "      <td>Ms</td>\n",
       "      <td>Female</td>\n",
       "      <td>Singaporean</td>\n",
       "      <td>1</td>\n",
       "      <td>1983-01-28</td>\n",
       "      <td>Degree</td>\n",
       "      <td>Bachelor of Business (Business Administration)...</td>\n",
       "      <td>2016-10-04</td>\n",
       "      <td>Assistant Director, Human Resources</td>\n",
       "      <td>...</td>\n",
       "      <td>107</td>\n",
       "      <td>Nets</td>\n",
       "      <td>5803</td>\n",
       "      <td>2.9</td>\n",
       "      <td>5113</td>\n",
       "      <td>2</td>\n",
       "      <td>41</td>\n",
       "      <td>822 days</td>\n",
       "      <td>Master of Business Administration</td>\n",
       "      <td>41-50</td>\n",
       "    </tr>\n",
       "  </tbody>\n",
       "</table>\n",
       "<p>244 rows × 24 columns</p>\n",
       "</div>"
      ],
      "text/plain": [
       "            STUDENT ID SALUTATION  GENDER      NATIONALITY LOCAL        DOB  \\\n",
       "0    2020/1101-013/001         Ms  Female      Singaporean     1 1978-03-04   \n",
       "1    2020/1101-013/002         Ms  Female      Singaporean     1 1966-03-23   \n",
       "2    2020/1101-013/003         Ms  Female      Singaporean     1 1988-12-04   \n",
       "3    2020/1101-014/004         Ms  Female      Singaporean     1 1991-11-27   \n",
       "4    2020/1101-014/005         Ms  Female      Singaporean     1 1985-04-23   \n",
       "..                 ...        ...     ...              ...   ...        ...   \n",
       "239  2019/5113-007/005         Ms  Female      Singaporean     1 1973-10-01   \n",
       "240  2019/5113-007/006         Ms  Female  Indonesian (PR)     0 1982-09-30   \n",
       "241  2019/5113-006/003         Ms  Female      Singaporean     1 1990-03-06   \n",
       "242  2019/5113-005/001         Ms  Female      Singaporean     1 1981-11-14   \n",
       "243  2019/5113-005/002         Ms  Female      Singaporean     1 1983-01-28   \n",
       "\n",
       "    HIGHEST QUALIFICATION              NAME OF QUALIFICATION AND INSTITUTION  \\\n",
       "0             Certificate                  Certificate in Office Skills, ITE   \n",
       "1             Certificate  WSQ Higher Certificate in Human Resources, WPL...   \n",
       "2             Certificate              Nitec in Service Skills (Office), ITE   \n",
       "3                  Degree  Bachelor Science (Facilities & Events Manageme...   \n",
       "4                 Diploma  Diploma in Procurement and Supply Management, ...   \n",
       "..                    ...                                                ...   \n",
       "239                Degree  Bachelor of Commerce (Accounting and Finance)/...   \n",
       "240                Degree  Bachelor of Economics (Accounting)/\\r\\nUnivers...   \n",
       "241                Degree  Bachelor of Science in Hotel Administration (H...   \n",
       "242                Degree  Bachelor of Arts with Second Class Honours (Lo...   \n",
       "243                Degree  Bachelor of Business (Business Administration)...   \n",
       "\n",
       "    DATE ATTAINED HIGHEST QUALIFICATION                          DESIGNATION  \\\n",
       "0                            2016-11-06       Snr Associate, Client Services   \n",
       "1                            2018-02-06                        Admin Officer   \n",
       "2                            2016-11-06                      Admin Assistant   \n",
       "3                            2017-06-10                     HR Administrator   \n",
       "4                            2016-08-10                 Purchasing Executive   \n",
       "..                                  ...                                  ...   \n",
       "239                          2017-11-05          Head, Registry & Corp Admin   \n",
       "240                          2016-05-05                      Finance Officer   \n",
       "241                          2015-06-08                         HR Assistant   \n",
       "242                          2014-08-04          Household Goods Coordinator   \n",
       "243                          2016-10-04  Assistant Director, Human Resources   \n",
       "\n",
       "     ... REGISTRATION FEE PAYMENT MODE COURSE FEE  GPA  COURSE CODE  \\\n",
       "0    ...              107         NETS       1712  3.0         1101   \n",
       "1    ...              107         NETS       1712  2.5         1101   \n",
       "2    ...              107       CC JPM       1712  2.0         1101   \n",
       "3    ...              107         NETS       1212  2.5         1101   \n",
       "4    ...              107         NETS       1712  2.4         1101   \n",
       "..   ...              ...          ...        ...  ...          ...   \n",
       "239  ...              107         Nets       5803  2.9         5113   \n",
       "240  ...              107         Nets       5803  2.0         5113   \n",
       "241  ...              107         Nets       5803  2.8         5113   \n",
       "242  ...              107         Nets       5803  1.9         5113   \n",
       "243  ...              107         Nets       5803  2.9         5113   \n",
       "\n",
       "    INDEX NUMBER  AGE  TIME FROM LAST QUALIFICATION  \\\n",
       "0              1   46                     1156 days   \n",
       "1              2   58                      699 days   \n",
       "2              3   35                     1156 days   \n",
       "3              4   32                     1004 days   \n",
       "4              5   39                     1308 days   \n",
       "..           ...  ...                           ...   \n",
       "239            5   50                      607 days   \n",
       "240            6   41                     1156 days   \n",
       "241            3   34                     1369 days   \n",
       "242            1   42                     1614 days   \n",
       "243            2   41                      822 days   \n",
       "\n",
       "                            COURSE NAME  AGE RANGE  \n",
       "0    Diploma in Business Administration      41-50  \n",
       "1    Diploma in Business Administration      51-60  \n",
       "2    Diploma in Business Administration      31-40  \n",
       "3    Diploma in Business Administration      31-40  \n",
       "4    Diploma in Business Administration      31-40  \n",
       "..                                  ...        ...  \n",
       "239   Master of Business Administration      41-50  \n",
       "240   Master of Business Administration      41-50  \n",
       "241   Master of Business Administration      31-40  \n",
       "242   Master of Business Administration      41-50  \n",
       "243   Master of Business Administration      41-50  \n",
       "\n",
       "[244 rows x 24 columns]"
      ]
     },
     "execution_count": 9,
     "metadata": {},
     "output_type": "execute_result"
    }
   ],
   "source": [
    "df"
   ]
  },
  {
   "cell_type": "markdown",
   "metadata": {},
   "source": [
    "<hr>\n",
    "<h2>Step 3: Data Visualisation and analyses</h2>"
   ]
  },
  {
   "cell_type": "code",
   "execution_count": 10,
   "metadata": {},
   "outputs": [
    {
     "data": {
      "application/vnd.plotly.v1+json": {
       "config": {
        "plotlyServerURL": "https://plot.ly"
       },
       "data": [
        {
         "alignmentgroup": "True",
         "boxmean": "sd",
         "hovertemplate": "Highest Qualification=Certificate<br>Local Status=%{x}<br>Age=%{y}<extra></extra>",
         "legendgroup": "Certificate",
         "line": {
          "width": 2
         },
         "marker": {
          "color": "#636EFA",
          "size": 6
         },
         "name": "Certificate",
         "notched": false,
         "offsetgroup": "Certificate",
         "orientation": "v",
         "showlegend": true,
         "type": "box",
         "x": [
          1,
          1,
          1,
          0,
          1,
          1,
          0,
          1,
          0,
          1,
          1,
          1,
          0,
          1,
          1,
          1,
          0,
          1,
          1,
          1,
          0,
          1,
          1,
          1,
          1,
          1,
          1,
          1,
          1,
          1,
          1,
          1,
          0,
          1,
          1,
          1,
          1,
          1,
          1,
          1,
          0,
          1,
          1,
          1,
          0,
          1,
          1,
          1,
          1,
          0,
          1,
          1,
          1,
          0,
          1,
          0,
          1,
          0,
          1,
          1,
          1,
          1,
          1,
          1,
          1,
          1,
          1,
          1,
          1
         ],
         "x0": " ",
         "xaxis": "x",
         "y": [
          46,
          58,
          35,
          43,
          28,
          41,
          42,
          45,
          55,
          44,
          48,
          40,
          32,
          51,
          33,
          34,
          37,
          51,
          55,
          32,
          46,
          51,
          47,
          48,
          44,
          30,
          49,
          32,
          35,
          22,
          54,
          36,
          36,
          24,
          56,
          29,
          25,
          23,
          36,
          30,
          38,
          44,
          48,
          26,
          31,
          25,
          40,
          37,
          45,
          26,
          38,
          34,
          55,
          34,
          63,
          23,
          31,
          25,
          41,
          40,
          32,
          56,
          44,
          32,
          50,
          58,
          56,
          57,
          34
         ],
         "y0": " ",
         "yaxis": "y"
        },
        {
         "alignmentgroup": "True",
         "boxmean": "sd",
         "hovertemplate": "Highest Qualification=Degree<br>Local Status=%{x}<br>Age=%{y}<extra></extra>",
         "legendgroup": "Degree",
         "line": {
          "width": 2
         },
         "marker": {
          "color": "#EF553B",
          "size": 6
         },
         "name": "Degree",
         "notched": false,
         "offsetgroup": "Degree",
         "orientation": "v",
         "showlegend": true,
         "type": "box",
         "x": [
          1,
          1,
          1,
          1,
          1,
          1,
          0,
          0,
          1,
          1,
          1,
          1,
          0,
          0,
          1,
          0,
          1,
          0,
          1,
          0,
          1,
          1,
          0,
          1,
          1,
          1,
          1,
          1,
          1,
          1,
          1,
          1,
          1,
          1,
          0,
          1,
          1,
          0,
          1,
          1,
          1,
          1,
          0,
          0,
          0,
          1,
          1,
          0,
          1,
          0,
          1,
          0,
          0,
          0,
          1,
          1,
          0,
          0,
          1,
          1,
          1,
          1,
          1,
          1,
          1,
          1,
          1,
          0,
          1,
          0,
          1,
          1,
          1,
          0,
          1,
          0,
          0,
          0,
          1,
          1,
          1,
          1,
          1,
          1,
          1,
          1,
          1,
          0,
          1,
          1,
          1,
          1,
          1,
          1,
          1,
          1,
          1,
          1,
          1,
          1,
          0,
          1,
          1,
          1
         ],
         "x0": " ",
         "xaxis": "x",
         "y": [
          32,
          49,
          47,
          41,
          34,
          35,
          34,
          35,
          34,
          31,
          40,
          37,
          40,
          37,
          31,
          31,
          43,
          31,
          34,
          33,
          54,
          30,
          30,
          36,
          36,
          36,
          33,
          36,
          33,
          50,
          46,
          31,
          38,
          55,
          61,
          53,
          31,
          40,
          31,
          30,
          42,
          52,
          47,
          50,
          31,
          32,
          45,
          41,
          31,
          40,
          32,
          41,
          40,
          45,
          37,
          32,
          43,
          36,
          35,
          40,
          35,
          30,
          42,
          33,
          39,
          32,
          33,
          39,
          41,
          40,
          41,
          41,
          41,
          34,
          49,
          38,
          48,
          40,
          47,
          30,
          39,
          46,
          42,
          31,
          50,
          42,
          35,
          25,
          33,
          32,
          30,
          30,
          32,
          38,
          27,
          43,
          45,
          33,
          39,
          50,
          41,
          34,
          42,
          41
         ],
         "y0": " ",
         "yaxis": "y"
        },
        {
         "alignmentgroup": "True",
         "boxmean": "sd",
         "hovertemplate": "Highest Qualification=Diploma<br>Local Status=%{x}<br>Age=%{y}<extra></extra>",
         "legendgroup": "Diploma",
         "line": {
          "width": 2
         },
         "marker": {
          "color": "#00CC96",
          "size": 6
         },
         "name": "Diploma",
         "notched": false,
         "offsetgroup": "Diploma",
         "orientation": "v",
         "showlegend": true,
         "type": "box",
         "x": [
          1,
          1,
          1,
          1,
          1,
          0,
          1,
          1,
          1,
          1,
          1,
          1,
          0,
          1,
          1,
          1,
          1,
          1,
          1,
          1,
          1,
          1,
          1,
          1,
          1,
          1,
          0,
          1,
          1,
          1,
          1,
          1,
          1,
          1,
          1,
          1,
          1,
          1,
          1,
          1,
          0,
          1,
          1,
          0,
          1,
          1,
          0,
          1,
          1,
          1,
          1,
          1,
          1,
          1,
          1,
          1
         ],
         "x0": " ",
         "xaxis": "x",
         "y": [
          39,
          32,
          29,
          44,
          29,
          48,
          40,
          34,
          26,
          53,
          29,
          41,
          36,
          38,
          35,
          30,
          43,
          29,
          48,
          50,
          35,
          28,
          54,
          39,
          47,
          46,
          31,
          52,
          51,
          45,
          42,
          41,
          36,
          36,
          43,
          39,
          41,
          42,
          37,
          40,
          39,
          50,
          46,
          35,
          42,
          40,
          29,
          58,
          58,
          42,
          43,
          40,
          54,
          51,
          39,
          39
         ],
         "y0": " ",
         "yaxis": "y"
        },
        {
         "alignmentgroup": "True",
         "boxmean": "sd",
         "hovertemplate": "Highest Qualification=Master<br>Local Status=%{x}<br>Age=%{y}<extra></extra>",
         "legendgroup": "Master",
         "line": {
          "width": 2
         },
         "marker": {
          "color": "#AB63FA",
          "size": 6
         },
         "name": "Master",
         "notched": false,
         "offsetgroup": "Master",
         "orientation": "v",
         "showlegend": true,
         "type": "box",
         "x": [
          0,
          0,
          0,
          0,
          0,
          0,
          1,
          1,
          1,
          0,
          1
         ],
         "x0": " ",
         "xaxis": "x",
         "y": [
          30,
          44,
          44,
          42,
          40,
          39,
          38,
          45,
          40,
          34,
          43
         ],
         "y0": " ",
         "yaxis": "y"
        }
       ],
       "layout": {
        "boxmode": "group",
        "legend": {
         "font": {
          "color": "rgba(31, 119, 180, 0.8)",
          "size": 12
         },
         "title": {
          "font": {
           "color": "rgba(31, 119, 180, 0.8)",
           "size": 14
          },
          "text": "Highest Qualification"
         },
         "tracegroupgap": 0,
         "x": 1,
         "y": 1
        },
        "margin": {
         "b": 40,
         "l": 40,
         "r": 60,
         "t": 60
        },
        "paper_bgcolor": "rgba(255, 255, 255, 0.9)",
        "plot_bgcolor": "rgba(240, 240, 240, 0.95)",
        "template": {
         "data": {
          "bar": [
           {
            "error_x": {
             "color": "#2a3f5f"
            },
            "error_y": {
             "color": "#2a3f5f"
            },
            "marker": {
             "line": {
              "color": "#E5ECF6",
              "width": 0.5
             },
             "pattern": {
              "fillmode": "overlay",
              "size": 10,
              "solidity": 0.2
             }
            },
            "type": "bar"
           }
          ],
          "barpolar": [
           {
            "marker": {
             "line": {
              "color": "#E5ECF6",
              "width": 0.5
             },
             "pattern": {
              "fillmode": "overlay",
              "size": 10,
              "solidity": 0.2
             }
            },
            "type": "barpolar"
           }
          ],
          "carpet": [
           {
            "aaxis": {
             "endlinecolor": "#2a3f5f",
             "gridcolor": "white",
             "linecolor": "white",
             "minorgridcolor": "white",
             "startlinecolor": "#2a3f5f"
            },
            "baxis": {
             "endlinecolor": "#2a3f5f",
             "gridcolor": "white",
             "linecolor": "white",
             "minorgridcolor": "white",
             "startlinecolor": "#2a3f5f"
            },
            "type": "carpet"
           }
          ],
          "choropleth": [
           {
            "colorbar": {
             "outlinewidth": 0,
             "ticks": ""
            },
            "type": "choropleth"
           }
          ],
          "contour": [
           {
            "colorbar": {
             "outlinewidth": 0,
             "ticks": ""
            },
            "colorscale": [
             [
              0,
              "#0d0887"
             ],
             [
              0.1111111111111111,
              "#46039f"
             ],
             [
              0.2222222222222222,
              "#7201a8"
             ],
             [
              0.3333333333333333,
              "#9c179e"
             ],
             [
              0.4444444444444444,
              "#bd3786"
             ],
             [
              0.5555555555555556,
              "#d8576b"
             ],
             [
              0.6666666666666666,
              "#ed7953"
             ],
             [
              0.7777777777777778,
              "#fb9f3a"
             ],
             [
              0.8888888888888888,
              "#fdca26"
             ],
             [
              1,
              "#f0f921"
             ]
            ],
            "type": "contour"
           }
          ],
          "contourcarpet": [
           {
            "colorbar": {
             "outlinewidth": 0,
             "ticks": ""
            },
            "type": "contourcarpet"
           }
          ],
          "heatmap": [
           {
            "colorbar": {
             "outlinewidth": 0,
             "ticks": ""
            },
            "colorscale": [
             [
              0,
              "#0d0887"
             ],
             [
              0.1111111111111111,
              "#46039f"
             ],
             [
              0.2222222222222222,
              "#7201a8"
             ],
             [
              0.3333333333333333,
              "#9c179e"
             ],
             [
              0.4444444444444444,
              "#bd3786"
             ],
             [
              0.5555555555555556,
              "#d8576b"
             ],
             [
              0.6666666666666666,
              "#ed7953"
             ],
             [
              0.7777777777777778,
              "#fb9f3a"
             ],
             [
              0.8888888888888888,
              "#fdca26"
             ],
             [
              1,
              "#f0f921"
             ]
            ],
            "type": "heatmap"
           }
          ],
          "heatmapgl": [
           {
            "colorbar": {
             "outlinewidth": 0,
             "ticks": ""
            },
            "colorscale": [
             [
              0,
              "#0d0887"
             ],
             [
              0.1111111111111111,
              "#46039f"
             ],
             [
              0.2222222222222222,
              "#7201a8"
             ],
             [
              0.3333333333333333,
              "#9c179e"
             ],
             [
              0.4444444444444444,
              "#bd3786"
             ],
             [
              0.5555555555555556,
              "#d8576b"
             ],
             [
              0.6666666666666666,
              "#ed7953"
             ],
             [
              0.7777777777777778,
              "#fb9f3a"
             ],
             [
              0.8888888888888888,
              "#fdca26"
             ],
             [
              1,
              "#f0f921"
             ]
            ],
            "type": "heatmapgl"
           }
          ],
          "histogram": [
           {
            "marker": {
             "pattern": {
              "fillmode": "overlay",
              "size": 10,
              "solidity": 0.2
             }
            },
            "type": "histogram"
           }
          ],
          "histogram2d": [
           {
            "colorbar": {
             "outlinewidth": 0,
             "ticks": ""
            },
            "colorscale": [
             [
              0,
              "#0d0887"
             ],
             [
              0.1111111111111111,
              "#46039f"
             ],
             [
              0.2222222222222222,
              "#7201a8"
             ],
             [
              0.3333333333333333,
              "#9c179e"
             ],
             [
              0.4444444444444444,
              "#bd3786"
             ],
             [
              0.5555555555555556,
              "#d8576b"
             ],
             [
              0.6666666666666666,
              "#ed7953"
             ],
             [
              0.7777777777777778,
              "#fb9f3a"
             ],
             [
              0.8888888888888888,
              "#fdca26"
             ],
             [
              1,
              "#f0f921"
             ]
            ],
            "type": "histogram2d"
           }
          ],
          "histogram2dcontour": [
           {
            "colorbar": {
             "outlinewidth": 0,
             "ticks": ""
            },
            "colorscale": [
             [
              0,
              "#0d0887"
             ],
             [
              0.1111111111111111,
              "#46039f"
             ],
             [
              0.2222222222222222,
              "#7201a8"
             ],
             [
              0.3333333333333333,
              "#9c179e"
             ],
             [
              0.4444444444444444,
              "#bd3786"
             ],
             [
              0.5555555555555556,
              "#d8576b"
             ],
             [
              0.6666666666666666,
              "#ed7953"
             ],
             [
              0.7777777777777778,
              "#fb9f3a"
             ],
             [
              0.8888888888888888,
              "#fdca26"
             ],
             [
              1,
              "#f0f921"
             ]
            ],
            "type": "histogram2dcontour"
           }
          ],
          "mesh3d": [
           {
            "colorbar": {
             "outlinewidth": 0,
             "ticks": ""
            },
            "type": "mesh3d"
           }
          ],
          "parcoords": [
           {
            "line": {
             "colorbar": {
              "outlinewidth": 0,
              "ticks": ""
             }
            },
            "type": "parcoords"
           }
          ],
          "pie": [
           {
            "automargin": true,
            "type": "pie"
           }
          ],
          "scatter": [
           {
            "fillpattern": {
             "fillmode": "overlay",
             "size": 10,
             "solidity": 0.2
            },
            "type": "scatter"
           }
          ],
          "scatter3d": [
           {
            "line": {
             "colorbar": {
              "outlinewidth": 0,
              "ticks": ""
             }
            },
            "marker": {
             "colorbar": {
              "outlinewidth": 0,
              "ticks": ""
             }
            },
            "type": "scatter3d"
           }
          ],
          "scattercarpet": [
           {
            "marker": {
             "colorbar": {
              "outlinewidth": 0,
              "ticks": ""
             }
            },
            "type": "scattercarpet"
           }
          ],
          "scattergeo": [
           {
            "marker": {
             "colorbar": {
              "outlinewidth": 0,
              "ticks": ""
             }
            },
            "type": "scattergeo"
           }
          ],
          "scattergl": [
           {
            "marker": {
             "colorbar": {
              "outlinewidth": 0,
              "ticks": ""
             }
            },
            "type": "scattergl"
           }
          ],
          "scattermapbox": [
           {
            "marker": {
             "colorbar": {
              "outlinewidth": 0,
              "ticks": ""
             }
            },
            "type": "scattermapbox"
           }
          ],
          "scatterpolar": [
           {
            "marker": {
             "colorbar": {
              "outlinewidth": 0,
              "ticks": ""
             }
            },
            "type": "scatterpolar"
           }
          ],
          "scatterpolargl": [
           {
            "marker": {
             "colorbar": {
              "outlinewidth": 0,
              "ticks": ""
             }
            },
            "type": "scatterpolargl"
           }
          ],
          "scatterternary": [
           {
            "marker": {
             "colorbar": {
              "outlinewidth": 0,
              "ticks": ""
             }
            },
            "type": "scatterternary"
           }
          ],
          "surface": [
           {
            "colorbar": {
             "outlinewidth": 0,
             "ticks": ""
            },
            "colorscale": [
             [
              0,
              "#0d0887"
             ],
             [
              0.1111111111111111,
              "#46039f"
             ],
             [
              0.2222222222222222,
              "#7201a8"
             ],
             [
              0.3333333333333333,
              "#9c179e"
             ],
             [
              0.4444444444444444,
              "#bd3786"
             ],
             [
              0.5555555555555556,
              "#d8576b"
             ],
             [
              0.6666666666666666,
              "#ed7953"
             ],
             [
              0.7777777777777778,
              "#fb9f3a"
             ],
             [
              0.8888888888888888,
              "#fdca26"
             ],
             [
              1,
              "#f0f921"
             ]
            ],
            "type": "surface"
           }
          ],
          "table": [
           {
            "cells": {
             "fill": {
              "color": "#EBF0F8"
             },
             "line": {
              "color": "white"
             }
            },
            "header": {
             "fill": {
              "color": "#C8D4E3"
             },
             "line": {
              "color": "white"
             }
            },
            "type": "table"
           }
          ]
         },
         "layout": {
          "annotationdefaults": {
           "arrowcolor": "#2a3f5f",
           "arrowhead": 0,
           "arrowwidth": 1
          },
          "autotypenumbers": "strict",
          "coloraxis": {
           "colorbar": {
            "outlinewidth": 0,
            "ticks": ""
           }
          },
          "colorscale": {
           "diverging": [
            [
             0,
             "#8e0152"
            ],
            [
             0.1,
             "#c51b7d"
            ],
            [
             0.2,
             "#de77ae"
            ],
            [
             0.3,
             "#f1b6da"
            ],
            [
             0.4,
             "#fde0ef"
            ],
            [
             0.5,
             "#f7f7f7"
            ],
            [
             0.6,
             "#e6f5d0"
            ],
            [
             0.7,
             "#b8e186"
            ],
            [
             0.8,
             "#7fbc41"
            ],
            [
             0.9,
             "#4d9221"
            ],
            [
             1,
             "#276419"
            ]
           ],
           "sequential": [
            [
             0,
             "#0d0887"
            ],
            [
             0.1111111111111111,
             "#46039f"
            ],
            [
             0.2222222222222222,
             "#7201a8"
            ],
            [
             0.3333333333333333,
             "#9c179e"
            ],
            [
             0.4444444444444444,
             "#bd3786"
            ],
            [
             0.5555555555555556,
             "#d8576b"
            ],
            [
             0.6666666666666666,
             "#ed7953"
            ],
            [
             0.7777777777777778,
             "#fb9f3a"
            ],
            [
             0.8888888888888888,
             "#fdca26"
            ],
            [
             1,
             "#f0f921"
            ]
           ],
           "sequentialminus": [
            [
             0,
             "#0d0887"
            ],
            [
             0.1111111111111111,
             "#46039f"
            ],
            [
             0.2222222222222222,
             "#7201a8"
            ],
            [
             0.3333333333333333,
             "#9c179e"
            ],
            [
             0.4444444444444444,
             "#bd3786"
            ],
            [
             0.5555555555555556,
             "#d8576b"
            ],
            [
             0.6666666666666666,
             "#ed7953"
            ],
            [
             0.7777777777777778,
             "#fb9f3a"
            ],
            [
             0.8888888888888888,
             "#fdca26"
            ],
            [
             1,
             "#f0f921"
            ]
           ]
          },
          "colorway": [
           "#636efa",
           "#EF553B",
           "#00cc96",
           "#ab63fa",
           "#FFA15A",
           "#19d3f3",
           "#FF6692",
           "#B6E880",
           "#FF97FF",
           "#FECB52"
          ],
          "font": {
           "color": "#2a3f5f"
          },
          "geo": {
           "bgcolor": "white",
           "lakecolor": "white",
           "landcolor": "#E5ECF6",
           "showlakes": true,
           "showland": true,
           "subunitcolor": "white"
          },
          "hoverlabel": {
           "align": "left"
          },
          "hovermode": "closest",
          "mapbox": {
           "style": "light"
          },
          "paper_bgcolor": "white",
          "plot_bgcolor": "#E5ECF6",
          "polar": {
           "angularaxis": {
            "gridcolor": "white",
            "linecolor": "white",
            "ticks": ""
           },
           "bgcolor": "#E5ECF6",
           "radialaxis": {
            "gridcolor": "white",
            "linecolor": "white",
            "ticks": ""
           }
          },
          "scene": {
           "xaxis": {
            "backgroundcolor": "#E5ECF6",
            "gridcolor": "white",
            "gridwidth": 2,
            "linecolor": "white",
            "showbackground": true,
            "ticks": "",
            "zerolinecolor": "white"
           },
           "yaxis": {
            "backgroundcolor": "#E5ECF6",
            "gridcolor": "white",
            "gridwidth": 2,
            "linecolor": "white",
            "showbackground": true,
            "ticks": "",
            "zerolinecolor": "white"
           },
           "zaxis": {
            "backgroundcolor": "#E5ECF6",
            "gridcolor": "white",
            "gridwidth": 2,
            "linecolor": "white",
            "showbackground": true,
            "ticks": "",
            "zerolinecolor": "white"
           }
          },
          "shapedefaults": {
           "line": {
            "color": "#2a3f5f"
           }
          },
          "ternary": {
           "aaxis": {
            "gridcolor": "white",
            "linecolor": "white",
            "ticks": ""
           },
           "baxis": {
            "gridcolor": "white",
            "linecolor": "white",
            "ticks": ""
           },
           "bgcolor": "#E5ECF6",
           "caxis": {
            "gridcolor": "white",
            "linecolor": "white",
            "ticks": ""
           }
          },
          "title": {
           "x": 0.05
          },
          "xaxis": {
           "automargin": true,
           "gridcolor": "white",
           "linecolor": "white",
           "ticks": "",
           "title": {
            "standoff": 15
           },
           "zerolinecolor": "white",
           "zerolinewidth": 2
          },
          "yaxis": {
           "automargin": true,
           "gridcolor": "white",
           "linecolor": "white",
           "ticks": "",
           "title": {
            "standoff": 15
           },
           "zerolinecolor": "white",
           "zerolinewidth": 2
          }
         }
        },
        "title": {
         "font": {
          "color": "rgba(31, 119, 180, 0.8)",
          "size": 18
         },
         "text": "Box Plot of Age by Local Status and Highest Qualification",
         "x": 0.5
        },
        "xaxis": {
         "anchor": "y",
         "domain": [
          0,
          1
         ],
         "tickangle": -45,
         "tickfont": {
          "color": "rgba(31, 119, 180, 0.8)",
          "size": 12
         },
         "title": {
          "font": {
           "color": "rgba(31, 119, 180, 0.8)",
           "size": 14
          },
          "text": "Local Status"
         }
        },
        "yaxis": {
         "anchor": "x",
         "domain": [
          0,
          1
         ],
         "tickfont": {
          "color": "rgba(31, 119, 180, 0.8)",
          "size": 12
         },
         "title": {
          "font": {
           "color": "rgba(31, 119, 180, 0.8)",
           "size": 14
          },
          "text": "Age"
         }
        }
       }
      }
     },
     "metadata": {},
     "output_type": "display_data"
    }
   ],
   "source": [
    "# Define the qualifications to exclude\n",
    "qualifications_to_exclude = ['-', 'Graduate Diploma', 'Postgraduate Diploma']\n",
    "\n",
    "# Filter the DataFrame\n",
    "filtered_df = df[~df['HIGHEST QUALIFICATION'].isin(qualifications_to_exclude)]\n",
    "\n",
    "# Define a list of colors for the box plots\n",
    "color_sequence = px.colors.qualitative.Plotly  \n",
    "\n",
    "# Create the box plot with custom colors\n",
    "fig_age_gender_qualification = px.box(\n",
    "    filtered_df, \n",
    "    x=\"LOCAL\", \n",
    "    y=\"AGE\", \n",
    "    color=\"HIGHEST QUALIFICATION\",\n",
    "    color_discrete_sequence=color_sequence,\n",
    "    title='Box Plot of Age by Local Status and Highest Qualification (Excluding Certain Qualifications)',\n",
    "    labels={\n",
    "        \"LOCAL\": \"Local Status\",\n",
    "        \"AGE\": \"Age\",\n",
    "        \"HIGHEST QUALIFICATION\": \"Highest Qualification\"\n",
    "    }\n",
    ")\n",
    "\n",
    "# Check if the number of unique qualifications exceeds the color sequence\n",
    "num_unique_qualifications = filtered_df['HIGHEST QUALIFICATION'].nunique()\n",
    "if num_unique_qualifications > len(color_sequence):\n",
    "    print(f\"Warning: Number of unique qualifications ({num_unique_qualifications}) exceeds the number of colors ({len(color_sequence)}). Some qualifications may not have distinct colors.\")\n",
    "\n",
    "# Customize the layout and aesthetics\n",
    "fig_age_gender_qualification.update_layout(\n",
    "    title={\n",
    "        'text': 'Box Plot of Age by Local Status and Highest Qualification',\n",
    "        'x': 0.5,  # Center the title\n",
    "        'font': dict(size=18, color='rgba(31, 119, 180, 0.8)')\n",
    "    },\n",
    "    xaxis_title=\"Local Status\",\n",
    "    yaxis_title=\"Age\",\n",
    "    xaxis=dict(\n",
    "        tickangle=-45,  # Rotate x-axis labels\n",
    "        title_font=dict(size=14, color='rgba(31, 119, 180, 0.8)'),\n",
    "        tickfont=dict(size=12, color='rgba(31, 119, 180, 0.8)')\n",
    "    ),\n",
    "    yaxis=dict(\n",
    "        title_font=dict(size=14, color='rgba(31, 119, 180, 0.8)'),\n",
    "        tickfont=dict(size=12, color='rgba(31, 119, 180, 0.8)')\n",
    "    ),\n",
    "    plot_bgcolor='rgba(240, 240, 240, 0.95)',  # Light gray background\n",
    "    paper_bgcolor='rgba(255, 255, 255, 0.9)',  # Slightly off-white background\n",
    "    legend=dict(\n",
    "        title=\"Highest Qualification\",\n",
    "        title_font=dict(size=14, color='rgba(31, 119, 180, 0.8)'),\n",
    "        font=dict(size=12, color='rgba(31, 119, 180, 0.8)'),\n",
    "        x=1,  # Position legend outside the plot\n",
    "        y=1\n",
    "    ),\n",
    "    margin=dict(l=40, r=60, t=60, b=40)  # Adjust margins\n",
    ")\n",
    "\n",
    "# Customize the box plot appearance\n",
    "fig_age_gender_qualification.update_traces(\n",
    "    boxmean='sd',  # Show mean with standard deviation\n",
    "    marker=dict(size=6),  # Marker size\n",
    "    line=dict(width=2)  # Line width for the box\n",
    ")\n",
    "\n",
    "# Display the plot\n",
    "fig_age_gender_qualification.show()"
   ]
  },
  {
   "cell_type": "markdown",
   "metadata": {},
   "source": [
    "We can see that for local students, the highest qualification with the lowest median age is degree and the course of study with the highest median age is diploma\n",
    "For non-local students, the highest qualification with the lowest age is the certificate, and the highest qualification with the highest age is the masters.\n",
    "For non locals, the distribution is pretty intuitive, with higher qualifications being higher in age while for local students not so much. This suggests that for foreign students, they may be required to get a local certificate to work in Singapore hence they enrol in this educational institute, while for local students, they just want to upskill themselves leading to such a distribution.\n"
   ]
  },
  {
   "cell_type": "code",
   "execution_count": 11,
   "metadata": {},
   "outputs": [
    {
     "data": {
      "application/vnd.plotly.v1+json": {
       "config": {
        "plotlyServerURL": "https://plot.ly"
       },
       "data": [
        {
         "branchvalues": "total",
         "customdata": [
          [
           "China (PR)",
           "Female",
           0
          ],
          [
           "Chinese",
           "Female",
           0
          ],
          [
           "Chinese\r\n(China)",
           "Female",
           0
          ],
          [
           "Chinese (PR)",
           "Female",
           0
          ],
          [
           "Filipino",
           "Female",
           0
          ],
          [
           "Filipino (PR)",
           "Female",
           0
          ],
          [
           "Indian",
           "Female",
           0
          ],
          [
           "Indian (PR)",
           "Female",
           0
          ],
          [
           "Indonesian (PR)",
           "Female",
           0
          ],
          [
           "Malaysian",
           "Female",
           0
          ],
          [
           "Malaysian (PR)",
           "Female",
           0
          ],
          [
           "Malaysian(PR)",
           "Male",
           0
          ],
          [
           "Myanmar",
           "Female",
           0
          ],
          [
           "Netherlands",
           "Female",
           0
          ],
          [
           "Singaporean",
           "Female",
           1
          ],
          [
           "Singaporean",
           "Male",
           1
          ],
          [
           "Vietnamese",
           "Female",
           0
          ],
          [
           "(?)",
           "Female",
           0
          ],
          [
           "Malaysian(PR)",
           "Male",
           0
          ],
          [
           "Singaporean",
           "Female",
           1
          ],
          [
           "Singaporean",
           "Male",
           1
          ],
          [
           "(?)",
           "Female",
           "(?)"
          ],
          [
           "(?)",
           "Male",
           "(?)"
          ]
         ],
         "domain": {
          "x": [
           0,
           1
          ],
          "y": [
           0,
           1
          ]
         },
         "hovertemplate": "labels=%{label}<br>count=%{value}<br>parent=%{parent}<br>id=%{id}<br>NATIONALITY=%{customdata[0]}<br>GENDER=%{customdata[1]}<br>LOCAL=%{customdata[2]}<extra></extra>",
         "ids": [
          "Female/0/China (PR)",
          "Female/0/Chinese",
          "Female/0/Chinese\r\n(China)",
          "Female/0/Chinese (PR)",
          "Female/0/Filipino",
          "Female/0/Filipino (PR)",
          "Female/0/Indian",
          "Female/0/Indian (PR)",
          "Female/0/Indonesian (PR)",
          "Female/0/Malaysian",
          "Female/0/Malaysian (PR)",
          "Male/0/Malaysian(PR)",
          "Female/0/Myanmar",
          "Female/0/Netherlands",
          "Female/1/Singaporean",
          "Male/1/Singaporean",
          "Female/0/Vietnamese",
          "Female/0",
          "Male/0",
          "Female/1",
          "Male/1",
          "Female",
          "Male"
         ],
         "insidetextorientation": "radial",
         "labels": [
          "China (PR)",
          "Chinese",
          "Chinese\r\n(China)",
          "Chinese (PR)",
          "Filipino",
          "Filipino (PR)",
          "Indian",
          "Indian (PR)",
          "Indonesian (PR)",
          "Malaysian",
          "Malaysian (PR)",
          "Malaysian(PR)",
          "Myanmar",
          "Netherlands",
          "Singaporean",
          "Singaporean",
          "Vietnamese",
          "0",
          "0",
          "1",
          "1",
          "Female",
          "Male"
         ],
         "marker": {
          "colorscale": [
           [
            0,
            "rgb(165,0,38)"
           ],
           [
            0.1,
            "rgb(215,48,39)"
           ],
           [
            0.2,
            "rgb(244,109,67)"
           ],
           [
            0.3,
            "rgb(253,174,97)"
           ],
           [
            0.4,
            "rgb(254,224,144)"
           ],
           [
            0.5,
            "rgb(255,255,191)"
           ],
           [
            0.6,
            "rgb(224,243,248)"
           ],
           [
            0.7,
            "rgb(171,217,233)"
           ],
           [
            0.8,
            "rgb(116,173,209)"
           ],
           [
            0.9,
            "rgb(69,117,180)"
           ],
           [
            1,
            "rgb(49,54,149)"
           ]
          ],
          "line": {
           "color": "#000000",
           "width": 1
          }
         },
         "name": "",
         "parents": [
          "Female/0",
          "Female/0",
          "Female/0",
          "Female/0",
          "Female/0",
          "Female/0",
          "Female/0",
          "Female/0",
          "Female/0",
          "Female/0",
          "Female/0",
          "Male/0",
          "Female/0",
          "Female/0",
          "Female/1",
          "Male/1",
          "Female/0",
          "Female",
          "Male",
          "Female",
          "Male",
          "",
          ""
         ],
         "textinfo": "label+percent entry+value",
         "type": "sunburst",
         "values": [
          1,
          2,
          1,
          5,
          6,
          1,
          5,
          5,
          1,
          9,
          14,
          1,
          2,
          1,
          161,
          28,
          1,
          54,
          1,
          161,
          28,
          215,
          29
         ]
        }
       ],
       "layout": {
        "font": {
         "color": "black",
         "size": 12
        },
        "legend": {
         "tracegroupgap": 0
        },
        "margin": {
         "b": 25,
         "l": 25,
         "r": 25,
         "t": 50
        },
        "paper_bgcolor": "rgba(255, 255, 255, 0.95)",
        "plot_bgcolor": "rgba(255, 255, 255, 0.9)",
        "template": {
         "data": {
          "bar": [
           {
            "error_x": {
             "color": "#2a3f5f"
            },
            "error_y": {
             "color": "#2a3f5f"
            },
            "marker": {
             "line": {
              "color": "#E5ECF6",
              "width": 0.5
             },
             "pattern": {
              "fillmode": "overlay",
              "size": 10,
              "solidity": 0.2
             }
            },
            "type": "bar"
           }
          ],
          "barpolar": [
           {
            "marker": {
             "line": {
              "color": "#E5ECF6",
              "width": 0.5
             },
             "pattern": {
              "fillmode": "overlay",
              "size": 10,
              "solidity": 0.2
             }
            },
            "type": "barpolar"
           }
          ],
          "carpet": [
           {
            "aaxis": {
             "endlinecolor": "#2a3f5f",
             "gridcolor": "white",
             "linecolor": "white",
             "minorgridcolor": "white",
             "startlinecolor": "#2a3f5f"
            },
            "baxis": {
             "endlinecolor": "#2a3f5f",
             "gridcolor": "white",
             "linecolor": "white",
             "minorgridcolor": "white",
             "startlinecolor": "#2a3f5f"
            },
            "type": "carpet"
           }
          ],
          "choropleth": [
           {
            "colorbar": {
             "outlinewidth": 0,
             "ticks": ""
            },
            "type": "choropleth"
           }
          ],
          "contour": [
           {
            "colorbar": {
             "outlinewidth": 0,
             "ticks": ""
            },
            "colorscale": [
             [
              0,
              "#0d0887"
             ],
             [
              0.1111111111111111,
              "#46039f"
             ],
             [
              0.2222222222222222,
              "#7201a8"
             ],
             [
              0.3333333333333333,
              "#9c179e"
             ],
             [
              0.4444444444444444,
              "#bd3786"
             ],
             [
              0.5555555555555556,
              "#d8576b"
             ],
             [
              0.6666666666666666,
              "#ed7953"
             ],
             [
              0.7777777777777778,
              "#fb9f3a"
             ],
             [
              0.8888888888888888,
              "#fdca26"
             ],
             [
              1,
              "#f0f921"
             ]
            ],
            "type": "contour"
           }
          ],
          "contourcarpet": [
           {
            "colorbar": {
             "outlinewidth": 0,
             "ticks": ""
            },
            "type": "contourcarpet"
           }
          ],
          "heatmap": [
           {
            "colorbar": {
             "outlinewidth": 0,
             "ticks": ""
            },
            "colorscale": [
             [
              0,
              "#0d0887"
             ],
             [
              0.1111111111111111,
              "#46039f"
             ],
             [
              0.2222222222222222,
              "#7201a8"
             ],
             [
              0.3333333333333333,
              "#9c179e"
             ],
             [
              0.4444444444444444,
              "#bd3786"
             ],
             [
              0.5555555555555556,
              "#d8576b"
             ],
             [
              0.6666666666666666,
              "#ed7953"
             ],
             [
              0.7777777777777778,
              "#fb9f3a"
             ],
             [
              0.8888888888888888,
              "#fdca26"
             ],
             [
              1,
              "#f0f921"
             ]
            ],
            "type": "heatmap"
           }
          ],
          "heatmapgl": [
           {
            "colorbar": {
             "outlinewidth": 0,
             "ticks": ""
            },
            "colorscale": [
             [
              0,
              "#0d0887"
             ],
             [
              0.1111111111111111,
              "#46039f"
             ],
             [
              0.2222222222222222,
              "#7201a8"
             ],
             [
              0.3333333333333333,
              "#9c179e"
             ],
             [
              0.4444444444444444,
              "#bd3786"
             ],
             [
              0.5555555555555556,
              "#d8576b"
             ],
             [
              0.6666666666666666,
              "#ed7953"
             ],
             [
              0.7777777777777778,
              "#fb9f3a"
             ],
             [
              0.8888888888888888,
              "#fdca26"
             ],
             [
              1,
              "#f0f921"
             ]
            ],
            "type": "heatmapgl"
           }
          ],
          "histogram": [
           {
            "marker": {
             "pattern": {
              "fillmode": "overlay",
              "size": 10,
              "solidity": 0.2
             }
            },
            "type": "histogram"
           }
          ],
          "histogram2d": [
           {
            "colorbar": {
             "outlinewidth": 0,
             "ticks": ""
            },
            "colorscale": [
             [
              0,
              "#0d0887"
             ],
             [
              0.1111111111111111,
              "#46039f"
             ],
             [
              0.2222222222222222,
              "#7201a8"
             ],
             [
              0.3333333333333333,
              "#9c179e"
             ],
             [
              0.4444444444444444,
              "#bd3786"
             ],
             [
              0.5555555555555556,
              "#d8576b"
             ],
             [
              0.6666666666666666,
              "#ed7953"
             ],
             [
              0.7777777777777778,
              "#fb9f3a"
             ],
             [
              0.8888888888888888,
              "#fdca26"
             ],
             [
              1,
              "#f0f921"
             ]
            ],
            "type": "histogram2d"
           }
          ],
          "histogram2dcontour": [
           {
            "colorbar": {
             "outlinewidth": 0,
             "ticks": ""
            },
            "colorscale": [
             [
              0,
              "#0d0887"
             ],
             [
              0.1111111111111111,
              "#46039f"
             ],
             [
              0.2222222222222222,
              "#7201a8"
             ],
             [
              0.3333333333333333,
              "#9c179e"
             ],
             [
              0.4444444444444444,
              "#bd3786"
             ],
             [
              0.5555555555555556,
              "#d8576b"
             ],
             [
              0.6666666666666666,
              "#ed7953"
             ],
             [
              0.7777777777777778,
              "#fb9f3a"
             ],
             [
              0.8888888888888888,
              "#fdca26"
             ],
             [
              1,
              "#f0f921"
             ]
            ],
            "type": "histogram2dcontour"
           }
          ],
          "mesh3d": [
           {
            "colorbar": {
             "outlinewidth": 0,
             "ticks": ""
            },
            "type": "mesh3d"
           }
          ],
          "parcoords": [
           {
            "line": {
             "colorbar": {
              "outlinewidth": 0,
              "ticks": ""
             }
            },
            "type": "parcoords"
           }
          ],
          "pie": [
           {
            "automargin": true,
            "type": "pie"
           }
          ],
          "scatter": [
           {
            "fillpattern": {
             "fillmode": "overlay",
             "size": 10,
             "solidity": 0.2
            },
            "type": "scatter"
           }
          ],
          "scatter3d": [
           {
            "line": {
             "colorbar": {
              "outlinewidth": 0,
              "ticks": ""
             }
            },
            "marker": {
             "colorbar": {
              "outlinewidth": 0,
              "ticks": ""
             }
            },
            "type": "scatter3d"
           }
          ],
          "scattercarpet": [
           {
            "marker": {
             "colorbar": {
              "outlinewidth": 0,
              "ticks": ""
             }
            },
            "type": "scattercarpet"
           }
          ],
          "scattergeo": [
           {
            "marker": {
             "colorbar": {
              "outlinewidth": 0,
              "ticks": ""
             }
            },
            "type": "scattergeo"
           }
          ],
          "scattergl": [
           {
            "marker": {
             "colorbar": {
              "outlinewidth": 0,
              "ticks": ""
             }
            },
            "type": "scattergl"
           }
          ],
          "scattermapbox": [
           {
            "marker": {
             "colorbar": {
              "outlinewidth": 0,
              "ticks": ""
             }
            },
            "type": "scattermapbox"
           }
          ],
          "scatterpolar": [
           {
            "marker": {
             "colorbar": {
              "outlinewidth": 0,
              "ticks": ""
             }
            },
            "type": "scatterpolar"
           }
          ],
          "scatterpolargl": [
           {
            "marker": {
             "colorbar": {
              "outlinewidth": 0,
              "ticks": ""
             }
            },
            "type": "scatterpolargl"
           }
          ],
          "scatterternary": [
           {
            "marker": {
             "colorbar": {
              "outlinewidth": 0,
              "ticks": ""
             }
            },
            "type": "scatterternary"
           }
          ],
          "surface": [
           {
            "colorbar": {
             "outlinewidth": 0,
             "ticks": ""
            },
            "colorscale": [
             [
              0,
              "#0d0887"
             ],
             [
              0.1111111111111111,
              "#46039f"
             ],
             [
              0.2222222222222222,
              "#7201a8"
             ],
             [
              0.3333333333333333,
              "#9c179e"
             ],
             [
              0.4444444444444444,
              "#bd3786"
             ],
             [
              0.5555555555555556,
              "#d8576b"
             ],
             [
              0.6666666666666666,
              "#ed7953"
             ],
             [
              0.7777777777777778,
              "#fb9f3a"
             ],
             [
              0.8888888888888888,
              "#fdca26"
             ],
             [
              1,
              "#f0f921"
             ]
            ],
            "type": "surface"
           }
          ],
          "table": [
           {
            "cells": {
             "fill": {
              "color": "#EBF0F8"
             },
             "line": {
              "color": "white"
             }
            },
            "header": {
             "fill": {
              "color": "#C8D4E3"
             },
             "line": {
              "color": "white"
             }
            },
            "type": "table"
           }
          ]
         },
         "layout": {
          "annotationdefaults": {
           "arrowcolor": "#2a3f5f",
           "arrowhead": 0,
           "arrowwidth": 1
          },
          "autotypenumbers": "strict",
          "coloraxis": {
           "colorbar": {
            "outlinewidth": 0,
            "ticks": ""
           }
          },
          "colorscale": {
           "diverging": [
            [
             0,
             "#8e0152"
            ],
            [
             0.1,
             "#c51b7d"
            ],
            [
             0.2,
             "#de77ae"
            ],
            [
             0.3,
             "#f1b6da"
            ],
            [
             0.4,
             "#fde0ef"
            ],
            [
             0.5,
             "#f7f7f7"
            ],
            [
             0.6,
             "#e6f5d0"
            ],
            [
             0.7,
             "#b8e186"
            ],
            [
             0.8,
             "#7fbc41"
            ],
            [
             0.9,
             "#4d9221"
            ],
            [
             1,
             "#276419"
            ]
           ],
           "sequential": [
            [
             0,
             "#0d0887"
            ],
            [
             0.1111111111111111,
             "#46039f"
            ],
            [
             0.2222222222222222,
             "#7201a8"
            ],
            [
             0.3333333333333333,
             "#9c179e"
            ],
            [
             0.4444444444444444,
             "#bd3786"
            ],
            [
             0.5555555555555556,
             "#d8576b"
            ],
            [
             0.6666666666666666,
             "#ed7953"
            ],
            [
             0.7777777777777778,
             "#fb9f3a"
            ],
            [
             0.8888888888888888,
             "#fdca26"
            ],
            [
             1,
             "#f0f921"
            ]
           ],
           "sequentialminus": [
            [
             0,
             "#0d0887"
            ],
            [
             0.1111111111111111,
             "#46039f"
            ],
            [
             0.2222222222222222,
             "#7201a8"
            ],
            [
             0.3333333333333333,
             "#9c179e"
            ],
            [
             0.4444444444444444,
             "#bd3786"
            ],
            [
             0.5555555555555556,
             "#d8576b"
            ],
            [
             0.6666666666666666,
             "#ed7953"
            ],
            [
             0.7777777777777778,
             "#fb9f3a"
            ],
            [
             0.8888888888888888,
             "#fdca26"
            ],
            [
             1,
             "#f0f921"
            ]
           ]
          },
          "colorway": [
           "#636efa",
           "#EF553B",
           "#00cc96",
           "#ab63fa",
           "#FFA15A",
           "#19d3f3",
           "#FF6692",
           "#B6E880",
           "#FF97FF",
           "#FECB52"
          ],
          "font": {
           "color": "#2a3f5f"
          },
          "geo": {
           "bgcolor": "white",
           "lakecolor": "white",
           "landcolor": "#E5ECF6",
           "showlakes": true,
           "showland": true,
           "subunitcolor": "white"
          },
          "hoverlabel": {
           "align": "left"
          },
          "hovermode": "closest",
          "mapbox": {
           "style": "light"
          },
          "paper_bgcolor": "white",
          "plot_bgcolor": "#E5ECF6",
          "polar": {
           "angularaxis": {
            "gridcolor": "white",
            "linecolor": "white",
            "ticks": ""
           },
           "bgcolor": "#E5ECF6",
           "radialaxis": {
            "gridcolor": "white",
            "linecolor": "white",
            "ticks": ""
           }
          },
          "scene": {
           "xaxis": {
            "backgroundcolor": "#E5ECF6",
            "gridcolor": "white",
            "gridwidth": 2,
            "linecolor": "white",
            "showbackground": true,
            "ticks": "",
            "zerolinecolor": "white"
           },
           "yaxis": {
            "backgroundcolor": "#E5ECF6",
            "gridcolor": "white",
            "gridwidth": 2,
            "linecolor": "white",
            "showbackground": true,
            "ticks": "",
            "zerolinecolor": "white"
           },
           "zaxis": {
            "backgroundcolor": "#E5ECF6",
            "gridcolor": "white",
            "gridwidth": 2,
            "linecolor": "white",
            "showbackground": true,
            "ticks": "",
            "zerolinecolor": "white"
           }
          },
          "shapedefaults": {
           "line": {
            "color": "#2a3f5f"
           }
          },
          "ternary": {
           "aaxis": {
            "gridcolor": "white",
            "linecolor": "white",
            "ticks": ""
           },
           "baxis": {
            "gridcolor": "white",
            "linecolor": "white",
            "ticks": ""
           },
           "bgcolor": "#E5ECF6",
           "caxis": {
            "gridcolor": "white",
            "linecolor": "white",
            "ticks": ""
           }
          },
          "title": {
           "x": 0.05
          },
          "xaxis": {
           "automargin": true,
           "gridcolor": "white",
           "linecolor": "white",
           "ticks": "",
           "title": {
            "standoff": 15
           },
           "zerolinecolor": "white",
           "zerolinewidth": 2
          },
          "yaxis": {
           "automargin": true,
           "gridcolor": "white",
           "linecolor": "white",
           "ticks": "",
           "title": {
            "standoff": 15
           },
           "zerolinecolor": "white",
           "zerolinewidth": 2
          }
         }
        },
        "title": {
         "font": {
          "size": 20
         },
         "text": "Distribution of Students by Nationality, Gender, and Local Status",
         "x": 0.5,
         "y": 0.95
        },
        "uniformtext": {
         "minsize": 12,
         "mode": "hide"
        }
       }
      }
     },
     "metadata": {},
     "output_type": "display_data"
    }
   ],
   "source": [
    "# Create the sunburst chart\n",
    "fig = px.sunburst(\n",
    "    df,\n",
    "    path=['GENDER', 'LOCAL', 'NATIONALITY'],\n",
    "    title='Distribution of Students by Nationality, Gender, and Local Status',\n",
    "    hover_data=['NATIONALITY', 'GENDER', 'LOCAL']\n",
    ")\n",
    "\n",
    "# Customize the appearance\n",
    "fig.update_traces(\n",
    "    textinfo='label+percent entry+value',\n",
    "    marker=dict(\n",
    "        line=dict(color='#000000', width=1),\n",
    "        colorscale='RdYlBu'  \n",
    "    ),\n",
    "    insidetextorientation='radial'\n",
    ")\n",
    "\n",
    "fig.update_layout(\n",
    "    margin=dict(t=50, l=25, r=25, b=25),\n",
    "    uniformtext=dict(minsize=12, mode='hide'),\n",
    "    title_font_size=20,\n",
    "    title_x=0.5,\n",
    "    title_y=0.95,\n",
    "    plot_bgcolor='rgba(255, 255, 255, 0.9)',\n",
    "    paper_bgcolor='rgba(255, 255, 255, 0.95)',\n",
    "    font=dict(size=12, color='black')\n",
    ")\n",
    "\n",
    "fig.show()"
   ]
  },
  {
   "cell_type": "markdown",
   "metadata": {},
   "source": [
    "Through this sunburst chart we can see the proportion of local and overseas students, the proportion of overseas students from each country and the proportion of males to females.\n",
    "We can see that the population is overwhelmingly female at 88%, and mostly comprised of local students.\n",
    "We can also see that there are many nationalities for the different female students but for the males, only Singaporean and one Malaysian PR, suggesting an unbalanced demographic\n"
   ]
  },
  {
   "cell_type": "code",
   "execution_count": 12,
   "metadata": {},
   "outputs": [
    {
     "data": {
      "text/html": [
       "\n",
       "        <iframe\n",
       "            width=\"100%\"\n",
       "            height=\"650\"\n",
       "            src=\"http://127.0.0.1:8050/\"\n",
       "            frameborder=\"0\"\n",
       "            allowfullscreen\n",
       "            \n",
       "        ></iframe>\n",
       "        "
      ],
      "text/plain": [
       "<IPython.lib.display.IFrame at 0x22a94cfb410>"
      ]
     },
     "metadata": {},
     "output_type": "display_data"
    }
   ],
   "source": [
    "# Initialize the Dash app\n",
    "app = dash.Dash(__name__)\n",
    "\n",
    "# Layout of the app\n",
    "app.layout = html.Div([\n",
    "    html.H1(\n",
    "        \"Average GPA by Highest Qualification and Age Range\",\n",
    "        style={\n",
    "            'text-align': 'center',\n",
    "            'color': '#4a4a4a',\n",
    "            'font-family': 'Arial, sans-serif',\n",
    "            'font-size': '36px',\n",
    "            'margin-bottom': '20px'\n",
    "        }\n",
    "    ),\n",
    "    \n",
    "    # Slider for selecting age ranges\n",
    "    dcc.RangeSlider(\n",
    "        id='age-range-slider',\n",
    "        min=df['AGE'].min(),\n",
    "        max=df['AGE'].max(),\n",
    "        step=1,\n",
    "        marks={i: str(i) for i in range(int(df['AGE'].min()), int(df['AGE'].max()) + 1)},\n",
    "        value=[df['AGE'].min(), df['AGE'].max()],\n",
    "        tooltip={\"placement\": \"bottom\", \"always_visible\": True}\n",
    "    ),\n",
    "    \n",
    "    # Checkbox for selecting courses\n",
    "    dcc.Checklist(\n",
    "        id='course-checkbox',\n",
    "        options=[{'label': course, 'value': course} for course in df['COURSE NAME'].unique()],\n",
    "        value=df['COURSE NAME'].unique().tolist(),\n",
    "        inline=True,\n",
    "        style={'font-family': 'Arial, sans-serif', 'font-size': '14px'}\n",
    "    ),\n",
    "    \n",
    "    # Graph to display the bar chart\n",
    "    dcc.Graph(id='average-gpa-bar-chart')\n",
    "], style={'backgroundColor': '#f8f9fa', 'padding': '20px'})  # Set background color and padding\n",
    "\n",
    "@app.callback(\n",
    "    Output('average-gpa-bar-chart', 'figure'),\n",
    "    [Input('age-range-slider', 'value'),\n",
    "     Input('course-checkbox', 'value')]\n",
    ")\n",
    "def update_graph(selected_age_range, selected_courses):\n",
    "    # Filter the DataFrame based on selected age range and courses\n",
    "    filtered_df = df[\n",
    "        (df['AGE'] >= selected_age_range[0]) &\n",
    "        (df['AGE'] <= selected_age_range[1]) &\n",
    "        (df['COURSE NAME'].isin(selected_courses))\n",
    "    ]\n",
    "    \n",
    "    # Bar Chart of Average GPA by Highest Qualification\n",
    "    fig = px.bar(\n",
    "        filtered_df.groupby('HIGHEST QUALIFICATION')['GPA'].mean().reset_index(),\n",
    "        x='HIGHEST QUALIFICATION',\n",
    "        y='GPA',\n",
    "        color='HIGHEST QUALIFICATION',\n",
    "        color_discrete_sequence=px.colors.qualitative.Set2,\n",
    "        title='Average GPA by Highest Qualification',\n",
    "        labels={'HIGHEST QUALIFICATION': 'Highest Qualification', 'GPA': 'Average GPA'},\n",
    "        width=1000,\n",
    "        height=600\n",
    "    )\n",
    "    \n",
    "    # Update layout\n",
    "    fig.update_layout(\n",
    "        title={\n",
    "            'text': 'Average GPA by Highest Qualification',\n",
    "            'font': {'size': 24, 'family': 'Arial, sans-serif'},\n",
    "            'x': 0.5\n",
    "        },\n",
    "        xaxis_title='Highest Qualification',\n",
    "        yaxis_title='Average GPA',\n",
    "        xaxis=dict(\n",
    "            tickangle=-45,\n",
    "            title_font=dict(size=16, family='Arial, sans-serif'),\n",
    "            tickfont=dict(size=14, family='Arial, sans-serif'),\n",
    "            showgrid=True,  # Show grid lines\n",
    "            gridcolor='rgba(200, 200, 200, 0.5)',  # Color of the grid lines\n",
    "            gridwidth=1     # Width of the grid lines\n",
    "        ),\n",
    "        yaxis=dict(\n",
    "            title_font=dict(size=16, family='Arial, sans-serif'),\n",
    "            tickfont=dict(size=14, family='Arial, sans-serif'),\n",
    "            showgrid=True,  # Show grid lines\n",
    "            gridcolor='rgba(200, 200, 200, 0.5)',  # Color of the grid lines\n",
    "            gridwidth=1     # Width of the grid lines\n",
    "        ),\n",
    "        legend=dict(\n",
    "            title='Highest Qualification',\n",
    "            title_font=dict(size=14, family='Arial, sans-serif'),\n",
    "            font=dict(size=12, family='Arial, sans-serif')\n",
    "        ),\n",
    "        plot_bgcolor='rgba(255, 255, 255, 0.9)',\n",
    "        paper_bgcolor='rgba(255, 255, 255, 0.95)',\n",
    "        margin=dict(l=60, r=60, t=60, b=60),  # Adjust margins for more space\n",
    "        font=dict(family='Arial, sans-serif', size=12, color='#4a4a4a')\n",
    "    )\n",
    "    \n",
    "    return fig\n",
    "\n",
    "if __name__ == '__main__':\n",
    "    app.run_server(debug=True)"
   ]
  },
  {
   "cell_type": "markdown",
   "metadata": {},
   "source": [
    "we can see that the highest qualification that produces the highest GPA is the post graduate degree is the postgraduate diploma, and the one that produces the lowest GPA is the Graduate diploma.\n",
    "Through using the sliders and the checkboxes,  we can isolate particular groups within the dataset and gain more insights through that.\n",
    "Some highest qualifications do have low populations, causing the average to be skewed\n"
   ]
  },
  {
   "cell_type": "markdown",
   "metadata": {},
   "source": [
    "<h2>Conclusion and recommendations:</h2>\n",
    "The plots show a very diverse and varied pool of students, however the students are overwhelmingly female and local. This issue in demographics may lead to less diverse thoughts and ideals which may not be positive for the Singaporean workforce. The higher median ages across the board also suggests that this institute is attracting students who are trying to upskill or try a mid career switch which is a very positive thing for the economy. However, for the bar chart, the fact that people who took masters are having a lower average gpa than other lower qualifications may be an issue as it could point toward a syllabus that is not good, given that the supposedly higher educated population is suffering in terms of score.\n",
    "<br><br>\n",
    "A suggestion would be to increase the diversity of the student pool and even out the gender ratios as this over emphasis on female admissions may cause some inequality concerns. Another would be to look at the syllabus to ensure that the course work is consistent and up to date due to the issue that the higher qualified population is doing worse\n"
   ]
  }
 ],
 "metadata": {
  "kernelspec": {
   "display_name": "base",
   "language": "python",
   "name": "python3"
  },
  "language_info": {
   "codemirror_mode": {
    "name": "ipython",
    "version": 3
   },
   "file_extension": ".py",
   "mimetype": "text/x-python",
   "name": "python",
   "nbconvert_exporter": "python",
   "pygments_lexer": "ipython3",
   "version": "3.11.5"
  }
 },
 "nbformat": 4,
 "nbformat_minor": 2
}
